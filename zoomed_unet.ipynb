{
 "cells": [
  {
   "cell_type": "code",
   "execution_count": 1,
   "metadata": {},
   "outputs": [
    {
     "name": "stderr",
     "output_type": "stream",
     "text": [
      "Using TensorFlow backend.\n"
     ]
    }
   ],
   "source": [
    "import numpy as np\n",
    "import pylidc as pl\n",
    "from unet import UNet"
   ]
  },
  {
   "cell_type": "code",
   "execution_count": 3,
   "metadata": {},
   "outputs": [],
   "source": [
    "scans = pl.query(pl.Scan)\n",
    "n = scans.count()"
   ]
  },
  {
   "cell_type": "code",
   "execution_count": 4,
   "metadata": {},
   "outputs": [],
   "source": [
    "image_size = (256, 256)"
   ]
  },
  {
   "cell_type": "code",
   "execution_count": 5,
   "metadata": {},
   "outputs": [],
   "source": [
    "def union_bboxes(anns):\n",
    "    return tuple((min(d.start for d in dim), max(d.stop for d in dim)) for dim in zip(*(ann.bbox() for ann in anns)))"
   ]
  },
  {
   "cell_type": "code",
   "execution_count": 10,
   "metadata": {},
   "outputs": [],
   "source": [
    "def get_data(i, samples):\n",
    "    scan = scans[i]\n",
    "    images = scan.load_all_dicom_images(verbose=False)\n",
    "    X, y = [], []\n",
    "    for nodule in scan.cluster_annotations():\n",
    "        coords = union_bboxes(nodule)\n",
    "        y_big = np.zeros(tuple(stop - start for start, stop in coords))\n",
    "        for ann in nodule:\n",
    "            b = ann.bbox()\n",
    "            bb = tuple(slice(bi.start - coord[0], bi.stop - coord[0], None) for bi, coord in zip(b, coords))\n",
    "            y_big[bb] = np.logical_or(y_big[bb], ann.boolean_mask())\n",
    "        means = [int(sum(coord) / 2) for coord in coords]\n",
    "        for zi in range(*coords[2]):\n",
    "            X_big = images[zi].pixel_array\n",
    "            for _ in range(samples):\n",
    "                starts = [np.random.randint(max(0, mean - ims), min(512 - ims, mean)) for mean, ims in zip(means, image_size)]\n",
    "                X.append(X_big[tuple(slice(start, start + ims) for start, ims in zip(starts, image_size))])\n",
    "                y_blank = np.zeros(image_size)\n",
    "                pos = tuple(slice(max(0, start - coord[0]), min(s, start - coord[0] + ims))\n",
    "                            for start, coord, ims, s in zip(starts, coords, image_size, y_big.shape))\n",
    "                y_blank[pos] = y_big[(*pos, zi - coords[2][0])]\n",
    "                y.append(y_blank)\n",
    "    return np.array(X), np.array(y)"
   ]
  },
  {
   "cell_type": "code",
   "execution_count": null,
   "metadata": {},
   "outputs": [],
   "source": []
  }
 ],
 "metadata": {
  "kernelspec": {
   "display_name": "Python 3",
   "language": "python",
   "name": "python3"
  },
  "language_info": {
   "codemirror_mode": {
    "name": "ipython",
    "version": 3
   },
   "file_extension": ".py",
   "mimetype": "text/x-python",
   "name": "python",
   "nbconvert_exporter": "python",
   "pygments_lexer": "ipython3",
   "version": "3.6.4"
  }
 },
 "nbformat": 4,
 "nbformat_minor": 2
}
