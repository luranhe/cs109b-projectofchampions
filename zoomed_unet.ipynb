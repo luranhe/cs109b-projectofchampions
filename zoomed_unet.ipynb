{
 "cells": [
  {
   "cell_type": "code",
   "execution_count": 1,
   "metadata": {},
   "outputs": [
    {
     "name": "stderr",
     "output_type": "stream",
     "text": [
      "Using TensorFlow backend.\n"
     ]
    }
   ],
   "source": [
    "import numpy as np\n",
    "import pylidc as pl\n",
    "from sklearn.model_selection import train_test_split\n",
    "from unet import UNet"
   ]
  },
  {
   "cell_type": "code",
   "execution_count": 2,
   "metadata": {},
   "outputs": [],
   "source": [
    "scans = pl.query(pl.Scan)\n",
    "n = scans.count()"
   ]
  },
  {
   "cell_type": "code",
   "execution_count": 3,
   "metadata": {},
   "outputs": [],
   "source": [
    "image_size = (256, 256)"
   ]
  },
  {
   "cell_type": "code",
   "execution_count": 5,
   "metadata": {},
   "outputs": [],
   "source": [
    "def union_bboxes(anns):\n",
    "    return tuple((min(d.start), max(d.stop)) for d in zip(*(ann.bbox() for ann in anns)))"
   ]
  },
  {
   "cell_type": "code",
   "execution_count": null,
   "metadata": {},
   "outputs": [],
   "source": [
    "def get_data(i, samples):\n",
    "    scan = scans[i]\n",
    "    images = scan.load_all_dicom_images(verbose=False)\n",
    "    X, y = [], []\n",
    "    for nodule in scan.cluster_annotations():\n",
    "        coords = union_bboxes(nodule)\n",
    "        x_coord, y_coord, z_coord = coords\n",
    "        y_big = np.zeros((stop - start for start, stop in coords))\n",
    "        for ann in nodule:\n",
    "            b = ann.bbox()\n",
    "            bb = tuple(slice(bi.start - coord[0], bi.stop - coord[0], None) for bi, coord in zip(b, coords))\n",
    "            y_big[bb] = np.logical_or(y_big[bb], ann.boolean_mask())\n",
    "        x_mean = int(sum(x_coord) / 2)\n",
    "        y_mean = int(sum(y_coord) / 2)\n",
    "        for zi in range(*z_coord):\n",
    "            for _ in samples:\n",
    "                x_start = np.random.randint(max(0, x_mean - image_size[0]), min(512 - image_size[0], x_mean))\n",
    "                y_start = np.random.randint(max(0, y_mean - image_size[1]), min(512 - image_size[1], y_mean))\n",
    "                X.append(images[zi].pixel_array[x_start:x_start + image_size[0], y_start:y_start + image_size[1]])\n",
    "                y.append(y_big[x_start:x_start + image_size[0], y_start:y_start + image_size[1], zi - zcoord[0]])"
   ]
  },
  {
   "cell_type": "code",
   "execution_count": null,
   "metadata": {},
   "outputs": [],
   "source": [
    "def get_data(i):\n",
    "    scan = scans[i]\n",
    "    images = scan.load_all_dicom_images(verbose=False)\n",
    "    n = len(images)\n",
    "    X = np.array([resize(im.pixel_array, image_size, mode='constant') for im in images])\n",
    "    X = np.expand_dims(X, axis=-1)\n",
    "    y = np.zeros((512, 512, n))\n",
    "    for ann in scan.annotations:\n",
    "        b = ann.bbox()\n",
    "        y[b] = np.logical_or(y[b], ann.boolean_mask())\n",
    "    y = np.rollaxis(y, 2, 0)\n",
    "    y = resize(y, (n, *image_size), mode='constant')\n",
    "    if only_nodules:\n",
    "        indices = [l.sum() > 0 for l in y]\n",
    "        X = X[indices]\n",
    "        y = y[indices]\n",
    "    y = np.expand_dims(y, axis=-1)\n",
    "    return X, y"
   ]
  }
 ],
 "metadata": {
  "kernelspec": {
   "display_name": "Python 3",
   "language": "python",
   "name": "python3"
  },
  "language_info": {
   "codemirror_mode": {
    "name": "ipython",
    "version": 3
   },
   "file_extension": ".py",
   "mimetype": "text/x-python",
   "name": "python",
   "nbconvert_exporter": "python",
   "pygments_lexer": "ipython3",
   "version": "3.6.4"
  }
 },
 "nbformat": 4,
 "nbformat_minor": 2
}
