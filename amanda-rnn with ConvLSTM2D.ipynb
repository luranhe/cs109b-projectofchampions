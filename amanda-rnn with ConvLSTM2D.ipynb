{
 "cells": [
  {
   "cell_type": "code",
   "execution_count": 65,
   "metadata": {},
   "outputs": [],
   "source": [
    "import numpy as np\n",
    "from skimage.transform import resize\n",
    "from keras.models import load_model\n",
    "from keras.models import Sequential\n",
    "from keras.layers import Conv2D, ConvLSTM2D, TimeDistributed\n",
    "from sklearn.externals import joblib\n",
    "import pylidc as pl\n",
    "import pydot\n",
    "\n",
    "from sklearn.metrics import roc_curve, auc\n",
    "from matplotlib import pyplot as plt\n",
    "%matplotlib inline"
   ]
  },
  {
   "cell_type": "code",
   "execution_count": 41,
   "metadata": {},
   "outputs": [],
   "source": [
    "image_size = (256, 256)\n",
    "num_slices = 50"
   ]
  },
  {
   "cell_type": "code",
   "execution_count": 108,
   "metadata": {},
   "outputs": [],
   "source": [
    "model = Sequential()\n",
    "model.add(ConvLSTM2D(filters=20, kernel_size=(3, 3), input_shape=(num_slices, *image_size, 1),\n",
    "                     padding='same', return_sequences=True))\n",
    "model.add(ConvLSTM2D(filters=20, kernel_size=(3, 3), input_shape=(num_slices, *image_size, 1),\n",
    "                     padding='same', return_sequences=True, go_backwards=True))\n",
    "model.add(TimeDistributed(Conv2D(1, 1, activation='sigmoid')))\n",
    "model.compile('adam', loss='binary_crossentropy', metrics=['accuracy'])"
   ]
  },
  {
   "cell_type": "code",
   "execution_count": 109,
   "metadata": {},
   "outputs": [
    {
     "name": "stdout",
     "output_type": "stream",
     "text": [
      "_________________________________________________________________\n",
      "Layer (type)                 Output Shape              Param #   \n",
      "=================================================================\n",
      "conv_lst_m2d_18 (ConvLSTM2D) (None, 50, 256, 256, 20)  15200     \n",
      "_________________________________________________________________\n",
      "conv_lst_m2d_19 (ConvLSTM2D) (None, 50, 256, 256, 20)  28880     \n",
      "_________________________________________________________________\n",
      "time_distributed_11 (TimeDis (None, 50, 256, 256, 1)   21        \n",
      "=================================================================\n",
      "Total params: 44,101\n",
      "Trainable params: 44,101\n",
      "Non-trainable params: 0\n",
      "_________________________________________________________________\n"
     ]
    }
   ],
   "source": [
    "model.summary()"
   ]
  },
  {
   "cell_type": "code",
   "execution_count": 43,
   "metadata": {},
   "outputs": [],
   "source": [
    "#from keras.utils import plot_model\n",
    "#plot_model(model, to_file='lstm_model.png')"
   ]
  },
  {
   "cell_type": "code",
   "execution_count": 44,
   "metadata": {},
   "outputs": [],
   "source": [
    "unet = load_model('unet.hdf5')\n",
    "lstm = load_model('unet_lstm.hdf5')"
   ]
  },
  {
   "cell_type": "code",
   "execution_count": 98,
   "metadata": {},
   "outputs": [],
   "source": [
    "X_unet = X.reshape((-1, *image_size, 1))\n",
    "y_unet = y.reshape((-1, *image_size, 1))"
   ]
  },
  {
   "cell_type": "code",
   "execution_count": 99,
   "metadata": {},
   "outputs": [
    {
     "name": "stderr",
     "output_type": "stream",
     "text": [
      "/usr/share/anaconda3/lib/python3.6/site-packages/ipykernel_launcher.py:2: UserWarning: Update your `Model` call to the Keras 2 API: `Model(outputs=Tensor(\"ba..., inputs=Tensor(\"in...)`\n",
      "  \n"
     ]
    }
   ],
   "source": [
    "# intermediate layer stuff\n",
    "from keras.models import Model\n",
    "int_layer_model = Model(input=unet.input, outputs=unet.layers[-2].output)\n",
    "\n",
    "int_output = int_layer_model.predict(X_unet)"
   ]
  },
  {
   "cell_type": "code",
   "execution_count": 101,
   "metadata": {},
   "outputs": [
    {
     "data": {
      "text/plain": [
       "(50, 256, 256, 64)"
      ]
     },
     "execution_count": 101,
     "metadata": {},
     "output_type": "execute_result"
    }
   ],
   "source": [
    "int_output.shape"
   ]
  },
  {
   "cell_type": "code",
   "execution_count": 107,
   "metadata": {},
   "outputs": [
    {
     "data": {
      "text/plain": [
       "<matplotlib.image.AxesImage at 0x7f30cc896828>"
      ]
     },
     "execution_count": 107,
     "metadata": {},
     "output_type": "execute_result"
    },
    {
     "data": {
      "image/png": "[encoded data removed]",
      "text/plain": [
       "<matplotlib.figure.Figure at 0x7f30cc253c18>"
      ]
     },
     "metadata": {},
     "output_type": "display_data"
    }
   ],
   "source": [
    "plt.imshow(int_output[30,:,:,14])"
   ]
  },
  {
   "cell_type": "code",
   "execution_count": null,
   "metadata": {},
   "outputs": [],
   "source": []
  },
  {
   "cell_type": "code",
   "execution_count": null,
   "metadata": {},
   "outputs": [],
   "source": []
  },
  {
   "cell_type": "code",
   "execution_count": null,
   "metadata": {},
   "outputs": [],
   "source": []
  },
  {
   "cell_type": "code",
   "execution_count": null,
   "metadata": {},
   "outputs": [],
   "source": []
  },
  {
   "cell_type": "code",
   "execution_count": null,
   "metadata": {},
   "outputs": [],
   "source": []
  },
  {
   "cell_type": "code",
   "execution_count": null,
   "metadata": {},
   "outputs": [],
   "source": []
  },
  {
   "cell_type": "code",
   "execution_count": 45,
   "metadata": {},
   "outputs": [],
   "source": [
    "scans = pl.query(pl.Scan)\n",
    "n = scans.count()"
   ]
  },
  {
   "cell_type": "code",
   "execution_count": 46,
   "metadata": {},
   "outputs": [],
   "source": [
    "test = joblib.load('test_set.p')\n",
    "train = list(set(range(n)) - set(test))"
   ]
  },
  {
   "cell_type": "code",
   "execution_count": 60,
   "metadata": {},
   "outputs": [],
   "source": [
    "def get_data(i, only_nodules=True):\n",
    "    scan = scans[i]\n",
    "    images = scan.load_all_dicom_images(verbose=False)\n",
    "    n = len(images)\n",
    "    X = np.array([resize(im.pixel_array, image_size, mode='constant') for im in images])\n",
    "    X = np.expand_dims(X, axis=-1)\n",
    "    y = np.zeros((512, 512, n))\n",
    "    for ann in scan.annotations:\n",
    "        b = ann.bbox()\n",
    "        y[b] = np.logical_or(y[b], ann.boolean_mask())\n",
    "    y = np.rollaxis(y, 2, 0)\n",
    "    y = resize(y, (n, *image_size), mode='constant')\n",
    "    y = np.expand_dims(y, axis=-1)\n",
    "    start = np.random.randint(n - num_slices)\n",
    "    X = X[start:start + num_slices]\n",
    "    y = y[start:start + num_slices]\n",
    "    #y = np.expand_dims(y, axis=-1)\n",
    "    return unet.predict(X, batch_size=1)[None], y[None]"
   ]
  },
  {
   "cell_type": "code",
   "execution_count": 48,
   "metadata": {},
   "outputs": [],
   "source": [
    "num_epochs = 2\n",
    "num_samples = 200"
   ]
  },
  {
   "cell_type": "code",
   "execution_count": null,
   "metadata": {
    "scrolled": true
   },
   "outputs": [
    {
     "name": "stdout",
     "output_type": "stream",
     "text": [
      "157\n",
      "Epoch 1/2\n",
      "1/1 [==============================] - 7s 7s/step - loss: 0.6931 - acc: 0.8736\n",
      "Epoch 2/2\n",
      "1/1 [==============================] - 3s 3s/step - loss: 0.6870 - acc: 1.0000\n",
      "645\n",
      "Epoch 1/2\n",
      "1/1 [==============================] - 3s 3s/step - loss: 0.6747 - acc: 1.0000\n",
      "Epoch 2/2\n",
      "1/1 [==============================] - 3s 3s/step - loss: 0.6503 - acc: 1.0000\n",
      "942\n",
      "Epoch 1/2\n",
      "1/1 [==============================] - 3s 3s/step - loss: 0.5978 - acc: 0.9999\n",
      "Epoch 2/2\n",
      "1/1 [==============================] - 3s 3s/step - loss: 0.4995 - acc: 0.9999\n",
      "176\n",
      "Epoch 1/2\n",
      "1/1 [==============================] - 3s 3s/step - loss: 0.3756 - acc: 0.9999\n",
      "Epoch 2/2\n",
      "1/1 [==============================] - 3s 3s/step - loss: 0.2609 - acc: 0.9999\n",
      "585\n",
      "Epoch 1/2\n",
      "1/1 [==============================] - 3s 3s/step - loss: 0.1661 - acc: 1.0000\n",
      "Epoch 2/2\n",
      "1/1 [==============================] - 3s 3s/step - loss: 0.1041 - acc: 1.0000\n",
      "316\n",
      "Epoch 1/2\n",
      "1/1 [==============================] - 3s 3s/step - loss: 0.0693 - acc: 1.0000\n",
      "Epoch 2/2\n",
      "1/1 [==============================] - 3s 3s/step - loss: 0.0462 - acc: 1.0000\n",
      "427\n",
      "Epoch 1/2\n",
      "1/1 [==============================] - 3s 3s/step - loss: 0.0319 - acc: 1.0000\n",
      "Epoch 2/2\n",
      "1/1 [==============================] - 3s 3s/step - loss: 0.0232 - acc: 1.0000\n",
      "327\n",
      "Epoch 1/2\n",
      "1/1 [==============================] - 3s 3s/step - loss: 0.0176 - acc: 1.0000\n",
      "Epoch 2/2\n",
      "1/1 [==============================] - 3s 3s/step - loss: 0.0136 - acc: 1.0000\n",
      "243\n",
      "Epoch 1/2\n",
      "1/1 [==============================] - 3s 3s/step - loss: 0.0108 - acc: 0.9999\n",
      "Epoch 2/2\n",
      "1/1 [==============================] - 3s 3s/step - loss: 0.0086 - acc: 0.9999\n",
      "568\n",
      "Epoch 1/2\n",
      "1/1 [==============================] - 3s 3s/step - loss: 0.0069 - acc: 1.0000\n",
      "Epoch 2/2\n",
      "1/1 [==============================] - 3s 3s/step - loss: 0.0057 - acc: 1.0000\n",
      "843\n",
      "Epoch 1/2\n",
      "1/1 [==============================] - 3s 3s/step - loss: 0.0048 - acc: 1.0000\n",
      "Epoch 2/2\n",
      "1/1 [==============================] - 3s 3s/step - loss: 0.0041 - acc: 1.0000\n",
      "338\n",
      "Epoch 1/2\n",
      "1/1 [==============================] - 3s 3s/step - loss: 0.0048 - acc: 0.9998\n",
      "Epoch 2/2\n",
      "1/1 [==============================] - 3s 3s/step - loss: 0.0045 - acc: 0.9998\n",
      "484\n",
      "Epoch 1/2\n",
      "1/1 [==============================] - 3s 3s/step - loss: 0.0030 - acc: 1.0000\n",
      "Epoch 2/2\n",
      "1/1 [==============================] - 3s 3s/step - loss: 0.0028 - acc: 1.0000\n",
      "599\n",
      "Epoch 1/2\n",
      "1/1 [==============================] - 3s 3s/step - loss: 0.0026 - acc: 1.0000\n",
      "Epoch 2/2\n",
      "1/1 [==============================] - 3s 3s/step - loss: 0.0025 - acc: 1.0000\n",
      "477\n",
      "Epoch 1/2\n",
      "1/1 [==============================] - 3s 3s/step - loss: 0.0024 - acc: 1.0000\n",
      "Epoch 2/2\n",
      "1/1 [==============================] - 3s 3s/step - loss: 0.0023 - acc: 1.0000\n",
      "123\n"
     ]
    }
   ],
   "source": [
    "for _ in range(num_samples):\n",
    "    while True:\n",
    "        i = np.random.choice(train)\n",
    "        print(i)\n",
    "        try:\n",
    "            X, y = get_data(i)\n",
    "            model.fit(X, y, batch_size=1, epochs=num_epochs)\n",
    "            model.save('unet_lstm_bw.hdf5')\n",
    "            break\n",
    "        except OSError:\n",
    "            print('Problem getting data')"
   ]
  },
  {
   "cell_type": "code",
   "execution_count": null,
   "metadata": {},
   "outputs": [],
   "source": [
    "#model.save('unet_lstm.hdf5')"
   ]
  },
  {
   "cell_type": "code",
   "execution_count": 78,
   "metadata": {},
   "outputs": [
    {
     "name": "stdout",
     "output_type": "stream",
     "text": [
      "141\n"
     ]
    }
   ],
   "source": [
    "# evaluate lstm vs unet\n",
    "ind = np.random.choice(test)\n",
    "print(ind)\n",
    "X, y = get_data(ind)\n",
    "preds_unet = X\n",
    "fpr_unet, tpr_unet, _ = roc_curve(np.rint(y).flatten(), preds_unet.flatten())\n",
    "\n",
    "preds_lstm = model.predict(preds_unet, batch_size=1)\n",
    "fpr_lstm, tpr_lstm, _ = roc_curve(np.rint(y).flatten(), preds_lstm.flatten())"
   ]
  },
  {
   "cell_type": "code",
   "execution_count": 21,
   "metadata": {},
   "outputs": [],
   "source": [
    "# X_unet = X.reshape((-1, *image_size, 1))\n",
    "# y_unet = y.reshape((-1, *image_size, 1))"
   ]
  },
  {
   "cell_type": "code",
   "execution_count": 81,
   "metadata": {},
   "outputs": [
    {
     "name": "stdout",
     "output_type": "stream",
     "text": [
      "0.40501148756298594\n",
      "0.5603522223929729\n"
     ]
    },
    {
     "data": {
      "image/png": "[encoded data removed]",
      "text/plain": [
       "<matplotlib.figure.Figure at 0x7f30dce52ba8>"
      ]
     },
     "metadata": {},
     "output_type": "display_data"
    },
    {
     "data": {
      "image/png": "[encoded data removed]",
      "text/plain": [
       "<matplotlib.figure.Figure at 0x7f30d39b4400>"
      ]
     },
     "metadata": {},
     "output_type": "display_data"
    }
   ],
   "source": [
    "print(auc(fpr_lstm, tpr_lstm))\n",
    "print(auc(fpr_unet, tpr_unet))\n",
    "\n",
    "plt.plot(fpr_lstm, tpr_lstm)\n",
    "plt.show()\n",
    "plt.plot(fpr_unet, tpr_unet)\n",
    "plt.show()"
   ]
  },
  {
   "cell_type": "code",
   "execution_count": 82,
   "metadata": {},
   "outputs": [
    {
     "name": "stdout",
     "output_type": "stream",
     "text": [
      "104\n",
      "0.4051646972257328\n",
      "0.9420030214643514\n"
     ]
    },
    {
     "data": {
      "image/png": "[encoded data removed]",
      "text/plain": [
       "<matplotlib.figure.Figure at 0x7f30d55bc550>"
      ]
     },
     "metadata": {},
     "output_type": "display_data"
    },
    {
     "data": {
      "image/png": "[encoded data removed]",
      "text/plain": [
       "<matplotlib.figure.Figure at 0x7f30d5d96f60>"
      ]
     },
     "metadata": {},
     "output_type": "display_data"
    }
   ],
   "source": [
    "# evaluate lstm vs unet\n",
    "ind = np.random.choice(test)\n",
    "print(ind)\n",
    "X, y = get_data(ind)\n",
    "preds_unet = X\n",
    "fpr_unet, tpr_unet, _ = roc_curve(np.rint(y).flatten(), preds_unet.flatten())\n",
    "\n",
    "preds_lstm = model.predict(preds_unet, batch_size=1)\n",
    "fpr_lstm, tpr_lstm, _ = roc_curve(np.rint(y).flatten(), preds_lstm.flatten())\n",
    "\n",
    "print(auc(fpr_lstm, tpr_lstm))\n",
    "print(auc(fpr_unet, tpr_unet))\n",
    "\n",
    "plt.plot(fpr_lstm, tpr_lstm)\n",
    "plt.show()\n",
    "plt.plot(fpr_unet, tpr_unet)\n",
    "plt.show()"
   ]
  },
  {
   "cell_type": "code",
   "execution_count": 88,
   "metadata": {},
   "outputs": [
    {
     "name": "stdout",
     "output_type": "stream",
     "text": [
      "186\n",
      "0.4051649287673382\n",
      "0.8069561190212817\n"
     ]
    },
    {
     "data": {
      "image/png": "[encoded data removed]",
      "text/plain": [
       "<matplotlib.figure.Figure at 0x7f30cc3c92e8>"
      ]
     },
     "metadata": {},
     "output_type": "display_data"
    },
    {
     "data": {
      "image/png": "[encoded data removed]",
      "text/plain": [
       "<matplotlib.figure.Figure at 0x7f30f87d4128>"
      ]
     },
     "metadata": {},
     "output_type": "display_data"
    }
   ],
   "source": [
    "# evaluate lstm vs unet\n",
    "ind = np.random.choice(test)\n",
    "print(ind)\n",
    "X, y = get_data(ind)\n",
    "preds_unet = X\n",
    "fpr_unet, tpr_unet, _ = roc_curve(np.rint(y).flatten(), preds_unet.flatten())\n",
    "\n",
    "preds_lstm = model.predict(preds_unet, batch_size=1)\n",
    "fpr_lstm, tpr_lstm, _ = roc_curve(np.rint(y).flatten(), preds_lstm.flatten())\n",
    "\n",
    "print(auc(fpr_lstm, tpr_lstm))\n",
    "print(auc(fpr_unet, tpr_unet))\n",
    "\n",
    "plt.plot(fpr_lstm, tpr_lstm)\n",
    "plt.show()\n",
    "plt.plot(fpr_unet, tpr_unet)\n",
    "plt.show()"
   ]
  },
  {
   "cell_type": "code",
   "execution_count": 89,
   "metadata": {},
   "outputs": [
    {
     "data": {
      "text/plain": [
       "array([[[[[0.409699  ],\n",
       "          [0.3712146 ],\n",
       "          [0.36049482],\n",
       "          ...,\n",
       "          [0.360497  ],\n",
       "          [0.37227654],\n",
       "          [0.41134652]],\n",
       "\n",
       "         [[0.37016687],\n",
       "          [0.30898035],\n",
       "          [0.29227048],\n",
       "          ...,\n",
       "          [0.29227427],\n",
       "          [0.31057215],\n",
       "          [0.37219274]],\n",
       "\n",
       "         [[0.3586619 ],\n",
       "          [0.29122695],\n",
       "          [0.2726422 ],\n",
       "          ...,\n",
       "          [0.27264714],\n",
       "          [0.29266027],\n",
       "          [0.3601337 ]],\n",
       "\n",
       "         ...,\n",
       "\n",
       "         [[0.35866016],\n",
       "          [0.29122475],\n",
       "          [0.27264047],\n",
       "          ...,\n",
       "          [0.27264783],\n",
       "          [0.29266086],\n",
       "          [0.36013404]],\n",
       "\n",
       "         [[0.37049976],\n",
       "          [0.3095698 ],\n",
       "          [0.29274762],\n",
       "          ...,\n",
       "          [0.29275474],\n",
       "          [0.31121013],\n",
       "          [0.37258533]],\n",
       "\n",
       "         [[0.40987274],\n",
       "          [0.37116262],\n",
       "          [0.35995862],\n",
       "          ...,\n",
       "          [0.35996345],\n",
       "          [0.37240112],\n",
       "          [0.41160092]]],\n",
       "\n",
       "\n",
       "        [[[0.11810613],\n",
       "          [0.04541931],\n",
       "          [0.03304751],\n",
       "          ...,\n",
       "          [0.03323237],\n",
       "          [0.04683089],\n",
       "          [0.1228556 ]],\n",
       "\n",
       "         [[0.04442086],\n",
       "          [0.01168381],\n",
       "          [0.00788748],\n",
       "          ...,\n",
       "          [0.00791374],\n",
       "          [0.01201033],\n",
       "          [0.04673172]],\n",
       "\n",
       "         [[0.0315704 ],\n",
       "          [0.00773511],\n",
       "          [0.00544953],\n",
       "          ...,\n",
       "          [0.00546442],\n",
       "          [0.00789529],\n",
       "          [0.03312005]],\n",
       "\n",
       "         ...,\n",
       "\n",
       "         [[0.03159437],\n",
       "          [0.00773225],\n",
       "          [0.00545226],\n",
       "          ...,\n",
       "          [0.00547289],\n",
       "          [0.00792508],\n",
       "          [0.03324393]],\n",
       "\n",
       "         [[0.04486904],\n",
       "          [0.01170268],\n",
       "          [0.00788434],\n",
       "          ...,\n",
       "          [0.00794624],\n",
       "          [0.01211318],\n",
       "          [0.04742415]],\n",
       "\n",
       "         [[0.11946208],\n",
       "          [0.04515348],\n",
       "          [0.03222526],\n",
       "          ...,\n",
       "          [0.03256379],\n",
       "          [0.04702912],\n",
       "          [0.12346684]]],\n",
       "\n",
       "\n",
       "        [[[0.0044059 ],\n",
       "          [0.00180059],\n",
       "          [0.00165689],\n",
       "          ...,\n",
       "          [0.00165796],\n",
       "          [0.0018063 ],\n",
       "          [0.0040398 ]],\n",
       "\n",
       "         [[0.00181531],\n",
       "          [0.00140664],\n",
       "          [0.0013522 ],\n",
       "          ...,\n",
       "          [0.0013534 ],\n",
       "          [0.00141122],\n",
       "          [0.00184944]],\n",
       "\n",
       "         [[0.00164718],\n",
       "          [0.00135112],\n",
       "          [0.00131491],\n",
       "          ...,\n",
       "          [0.0013157 ],\n",
       "          [0.00135629],\n",
       "          [0.0016691 ]],\n",
       "\n",
       "         ...,\n",
       "\n",
       "         [[0.00164576],\n",
       "          [0.00135271],\n",
       "          [0.0013159 ],\n",
       "          ...,\n",
       "          [0.00131617],\n",
       "          [0.00135721],\n",
       "          [0.00167369]],\n",
       "\n",
       "         [[0.00181407],\n",
       "          [0.00140516],\n",
       "          [0.00135824],\n",
       "          ...,\n",
       "          [0.00135871],\n",
       "          [0.00141261],\n",
       "          [0.00192719]],\n",
       "\n",
       "         [[0.00424334],\n",
       "          [0.0019135 ],\n",
       "          [0.00171717],\n",
       "          ...,\n",
       "          [0.00172444],\n",
       "          [0.00196813],\n",
       "          [0.00421808]]],\n",
       "\n",
       "\n",
       "        ...,\n",
       "\n",
       "\n",
       "        [[[0.0011054 ],\n",
       "          [0.00109099],\n",
       "          [0.00109096],\n",
       "          ...,\n",
       "          [0.00109096],\n",
       "          [0.00109108],\n",
       "          [0.00111702]],\n",
       "\n",
       "         [[0.00108425],\n",
       "          [0.00108374],\n",
       "          [0.00108374],\n",
       "          ...,\n",
       "          [0.00108374],\n",
       "          [0.00108374],\n",
       "          [0.00108475]],\n",
       "\n",
       "         [[0.00108475],\n",
       "          [0.00108374],\n",
       "          [0.00108374],\n",
       "          ...,\n",
       "          [0.00108374],\n",
       "          [0.00108374],\n",
       "          [0.00108521]],\n",
       "\n",
       "         ...,\n",
       "\n",
       "         [[0.00108474],\n",
       "          [0.00108374],\n",
       "          [0.00108374],\n",
       "          ...,\n",
       "          [0.00108374],\n",
       "          [0.00108374],\n",
       "          [0.00108521]],\n",
       "\n",
       "         [[0.00108491],\n",
       "          [0.00108374],\n",
       "          [0.00108374],\n",
       "          ...,\n",
       "          [0.00108374],\n",
       "          [0.00108374],\n",
       "          [0.00108497]],\n",
       "\n",
       "         [[0.00110866],\n",
       "          [0.00108374],\n",
       "          [0.00108374],\n",
       "          ...,\n",
       "          [0.00108374],\n",
       "          [0.00108374],\n",
       "          [0.00111505]]],\n",
       "\n",
       "\n",
       "        [[[0.0011054 ],\n",
       "          [0.00109099],\n",
       "          [0.00109096],\n",
       "          ...,\n",
       "          [0.00109096],\n",
       "          [0.00109108],\n",
       "          [0.00111702]],\n",
       "\n",
       "         [[0.00108425],\n",
       "          [0.00108374],\n",
       "          [0.00108374],\n",
       "          ...,\n",
       "          [0.00108374],\n",
       "          [0.00108374],\n",
       "          [0.00108475]],\n",
       "\n",
       "         [[0.00108475],\n",
       "          [0.00108374],\n",
       "          [0.00108374],\n",
       "          ...,\n",
       "          [0.00108374],\n",
       "          [0.00108374],\n",
       "          [0.00108521]],\n",
       "\n",
       "         ...,\n",
       "\n",
       "         [[0.00108474],\n",
       "          [0.00108374],\n",
       "          [0.00108374],\n",
       "          ...,\n",
       "          [0.00108374],\n",
       "          [0.00108374],\n",
       "          [0.00108521]],\n",
       "\n",
       "         [[0.00108491],\n",
       "          [0.00108374],\n",
       "          [0.00108374],\n",
       "          ...,\n",
       "          [0.00108374],\n",
       "          [0.00108374],\n",
       "          [0.00108497]],\n",
       "\n",
       "         [[0.00110866],\n",
       "          [0.00108374],\n",
       "          [0.00108374],\n",
       "          ...,\n",
       "          [0.00108374],\n",
       "          [0.00108374],\n",
       "          [0.00111505]]],\n",
       "\n",
       "\n",
       "        [[[0.0011054 ],\n",
       "          [0.00109099],\n",
       "          [0.00109096],\n",
       "          ...,\n",
       "          [0.00109096],\n",
       "          [0.00109108],\n",
       "          [0.00111702]],\n",
       "\n",
       "         [[0.00108425],\n",
       "          [0.00108374],\n",
       "          [0.00108374],\n",
       "          ...,\n",
       "          [0.00108374],\n",
       "          [0.00108374],\n",
       "          [0.00108475]],\n",
       "\n",
       "         [[0.00108475],\n",
       "          [0.00108374],\n",
       "          [0.00108374],\n",
       "          ...,\n",
       "          [0.00108374],\n",
       "          [0.00108374],\n",
       "          [0.00108521]],\n",
       "\n",
       "         ...,\n",
       "\n",
       "         [[0.00108474],\n",
       "          [0.00108374],\n",
       "          [0.00108374],\n",
       "          ...,\n",
       "          [0.00108374],\n",
       "          [0.00108374],\n",
       "          [0.00108521]],\n",
       "\n",
       "         [[0.00108491],\n",
       "          [0.00108374],\n",
       "          [0.00108374],\n",
       "          ...,\n",
       "          [0.00108374],\n",
       "          [0.00108374],\n",
       "          [0.00108497]],\n",
       "\n",
       "         [[0.00110866],\n",
       "          [0.00108374],\n",
       "          [0.00108374],\n",
       "          ...,\n",
       "          [0.00108374],\n",
       "          [0.00108374],\n",
       "          [0.00111505]]]]], dtype=float32)"
      ]
     },
     "execution_count": 89,
     "metadata": {},
     "output_type": "execute_result"
    }
   ],
   "source": [
    "preds_lstm"
   ]
  },
  {
   "cell_type": "code",
   "execution_count": null,
   "metadata": {},
   "outputs": [],
   "source": []
  },
  {
   "cell_type": "code",
   "execution_count": null,
   "metadata": {},
   "outputs": [],
   "source": []
  },
  {
   "cell_type": "code",
   "execution_count": null,
   "metadata": {},
   "outputs": [],
   "source": []
  },
  {
   "cell_type": "code",
   "execution_count": null,
   "metadata": {},
   "outputs": [],
   "source": []
  },
  {
   "cell_type": "code",
   "execution_count": null,
   "metadata": {},
   "outputs": [],
   "source": []
  },
  {
   "cell_type": "code",
   "execution_count": null,
   "metadata": {},
   "outputs": [],
   "source": []
  },
  {
   "cell_type": "code",
   "execution_count": null,
   "metadata": {},
   "outputs": [],
   "source": []
  },
  {
   "cell_type": "code",
   "execution_count": null,
   "metadata": {},
   "outputs": [],
   "source": []
  },
  {
   "cell_type": "code",
   "execution_count": 75,
   "metadata": {},
   "outputs": [
    {
     "data": {
      "text/plain": [
       "array([nan, nan, nan, ..., nan, nan, nan])"
      ]
     },
     "execution_count": 75,
     "metadata": {},
     "output_type": "execute_result"
    }
   ],
   "source": [
    "tpr_unet"
   ]
  },
  {
   "cell_type": "code",
   "execution_count": 76,
   "metadata": {},
   "outputs": [
    {
     "data": {
      "text/plain": [
       "array([0., 0., 0., ..., 0., 0., 0.])"
      ]
     },
     "execution_count": 76,
     "metadata": {},
     "output_type": "execute_result"
    }
   ],
   "source": [
    "np.rint(y).flatten()"
   ]
  },
  {
   "cell_type": "code",
   "execution_count": 77,
   "metadata": {},
   "outputs": [
    {
     "data": {
      "text/plain": [
       "array([0.40970114, 0.37121758, 0.36049712, ..., 0.00108374, 0.00108374,\n",
       "       0.00111505], dtype=float32)"
      ]
     },
     "execution_count": 77,
     "metadata": {},
     "output_type": "execute_result"
    }
   ],
   "source": [
    "preds_lstm.flatten()"
   ]
  },
  {
   "cell_type": "code",
   "execution_count": null,
   "metadata": {},
   "outputs": [],
   "source": []
  },
  {
   "cell_type": "code",
   "execution_count": null,
   "metadata": {},
   "outputs": [],
   "source": []
  },
  {
   "cell_type": "code",
   "execution_count": 23,
   "metadata": {},
   "outputs": [
    {
     "name": "stdout",
     "output_type": "stream",
     "text": [
      "0.9732168007531221\n",
      "0.7169184511734369\n"
     ]
    }
   ],
   "source": [
    "print(auc(fpr_lstm, tpr_lstm))\n",
    "print(auc(fpr_unet, tpr_unet))"
   ]
  },
  {
   "cell_type": "code",
   "execution_count": 17,
   "metadata": {},
   "outputs": [
    {
     "data": {
      "text/plain": [
       "[<matplotlib.lines.Line2D at 0x7fb2d5c03080>]"
      ]
     },
     "execution_count": 17,
     "metadata": {},
     "output_type": "execute_result"
    },
    {
     "data": {
      "image/png": "[encoded data removed]",
      "text/plain": [
       "<matplotlib.figure.Figure at 0x7fb2d59059e8>"
      ]
     },
     "metadata": {},
     "output_type": "display_data"
    }
   ],
   "source": [
    "plt.plot(fpr, tpr)"
   ]
  },
  {
   "cell_type": "code",
   "execution_count": 24,
   "metadata": {},
   "outputs": [
    {
     "data": {
      "text/plain": [
       "[<matplotlib.lines.Line2D at 0x7fb2b432cba8>]"
      ]
     },
     "execution_count": 24,
     "metadata": {},
     "output_type": "execute_result"
    },
    {
     "data": {
      "image/png": "[encoded data removed]",
      "text/plain": [
       "<matplotlib.figure.Figure at 0x7fb2d5990898>"
      ]
     },
     "metadata": {},
     "output_type": "display_data"
    }
   ],
   "source": [
    "plt.plot(fpr_unet, tpr_unet)"
   ]
  },
  {
   "cell_type": "code",
   "execution_count": null,
   "metadata": {},
   "outputs": [],
   "source": []
  }
 ],
 "metadata": {
  "kernelspec": {
   "display_name": "Python 3",
   "language": "python",
   "name": "python3"
  },
  "language_info": {
   "codemirror_mode": {
    "name": "ipython",
    "version": 3
   },
   "file_extension": ".py",
   "mimetype": "text/x-python",
   "name": "python",
   "nbconvert_exporter": "python",
   "pygments_lexer": "ipython3",
   "version": "3.6.4"
  }
 },
 "nbformat": 4,
 "nbformat_minor": 2
}
