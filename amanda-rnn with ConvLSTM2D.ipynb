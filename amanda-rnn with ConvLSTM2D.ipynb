{
 "cells": [
  {
   "cell_type": "code",
   "execution_count": 65,
   "metadata": {},
   "outputs": [],
   "source": [
    "import numpy as np\n",
    "from skimage.transform import resize\n",
    "from keras.models import load_model\n",
    "from keras.models import Sequential\n",
    "from keras.layers import Conv2D, ConvLSTM2D, TimeDistributed\n",
    "from sklearn.externals import joblib\n",
    "import pylidc as pl\n",
    "import pydot\n",
    "\n",
    "from sklearn.metrics import roc_curve, auc\n",
    "from matplotlib import pyplot as plt\n",
    "%matplotlib inline"
   ]
  },
  {
   "cell_type": "code",
   "execution_count": 41,
   "metadata": {},
   "outputs": [],
   "source": [
    "image_size = (256, 256)\n",
    "num_slices = 50"
   ]
  },
  {
   "cell_type": "code",
   "execution_count": 62,
   "metadata": {},
   "outputs": [],
   "source": [
    "model = Sequential()\n",
    "model.add(ConvLSTM2D(filters=20, kernel_size=(3, 3), input_shape=(num_slices, *image_size, 1),\n",
    "                     padding='same', return_sequences=True))\n",
    "model.add(ConvLSTM2D(filters=20, kernel_size=(3, 3), input_shape=(num_slices, *image_size, 1),\n",
    "                     padding='same', return_sequences=True))\n",
    "model.add(ConvLSTM2D(filters=20, kernel_size=(3, 3), input_shape=(num_slices, *image_size, 1),\n",
    "                     padding='same', return_sequences=True))\n",
    "model.add(TimeDistributed(Conv2D(1, 1, activation='sigmoid')))\n",
    "model.compile('adam', loss='binary_crossentropy', metrics=['accuracy'])"
   ]
  },
  {
   "cell_type": "code",
   "execution_count": 43,
   "metadata": {},
   "outputs": [],
   "source": [
    "#from keras.utils import plot_model\n",
    "#plot_model(model, to_file='lstm_model.png')"
   ]
  },
  {
   "cell_type": "code",
   "execution_count": 44,
   "metadata": {},
   "outputs": [],
   "source": [
    "unet = load_model('unet.hdf5')\n",
    "lstm = load_model('unet_lstm.hdf5')"
   ]
  },
  {
   "cell_type": "code",
   "execution_count": 63,
   "metadata": {},
   "outputs": [
    {
     "name": "stdout",
     "output_type": "stream",
     "text": [
      "_________________________________________________________________\n",
      "Layer (type)                 Output Shape              Param #   \n",
      "=================================================================\n",
      "conv_lst_m2d_15 (ConvLSTM2D) (None, 50, 256, 256, 20)  15200     \n",
      "_________________________________________________________________\n",
      "conv_lst_m2d_16 (ConvLSTM2D) (None, 50, 256, 256, 20)  28880     \n",
      "_________________________________________________________________\n",
      "conv_lst_m2d_17 (ConvLSTM2D) (None, 50, 256, 256, 20)  28880     \n",
      "_________________________________________________________________\n",
      "time_distributed_10 (TimeDis (None, 50, 256, 256, 1)   21        \n",
      "=================================================================\n",
      "Total params: 72,981\n",
      "Trainable params: 72,981\n",
      "Non-trainable params: 0\n",
      "_________________________________________________________________\n"
     ]
    }
   ],
   "source": [
    "model.summary()"
   ]
  },
  {
   "cell_type": "code",
   "execution_count": 45,
   "metadata": {},
   "outputs": [],
   "source": [
    "scans = pl.query(pl.Scan)\n",
    "n = scans.count()"
   ]
  },
  {
   "cell_type": "code",
   "execution_count": 46,
   "metadata": {},
   "outputs": [],
   "source": [
    "test = joblib.load('test_set.p')\n",
    "train = list(set(range(n)) - set(test))"
   ]
  },
  {
   "cell_type": "code",
   "execution_count": 60,
   "metadata": {},
   "outputs": [],
   "source": [
    "def get_data(i, only_nodules=True):\n",
    "    scan = scans[i]\n",
    "    images = scan.load_all_dicom_images(verbose=False)\n",
    "    n = len(images)\n",
    "    X = np.array([resize(im.pixel_array, image_size, mode='constant') for im in images])\n",
    "    X = np.expand_dims(X, axis=-1)\n",
    "    y = np.zeros((512, 512, n))\n",
    "    for ann in scan.annotations:\n",
    "        b = ann.bbox()\n",
    "        y[b] = np.logical_or(y[b], ann.boolean_mask())\n",
    "    y = np.rollaxis(y, 2, 0)\n",
    "    y = resize(y, (n, *image_size), mode='constant')\n",
    "    y = np.expand_dims(y, axis=-1)\n",
    "    start = np.random.randint(n - num_slices)\n",
    "    X = X[start:start + num_slices]\n",
    "    y = y[start:start + num_slices]\n",
    "    #y = np.expand_dims(y, axis=-1)\n",
    "    return unet.predict(X, batch_size=1)[None], y[None]"
   ]
  },
  {
   "cell_type": "code",
   "execution_count": 48,
   "metadata": {},
   "outputs": [],
   "source": [
    "num_epochs = 2\n",
    "num_samples = 200"
   ]
  },
  {
   "cell_type": "code",
   "execution_count": 68,
   "metadata": {
    "collapsed": true
   },
   "outputs": [
    {
     "name": "stdout",
     "output_type": "stream",
     "text": [
      "814\n",
      "Epoch 1/2\n",
      "1/1 [==============================] - 5s 5s/step - loss: 0.0242 - acc: 1.0000\n",
      "Epoch 2/2\n",
      "1/1 [==============================] - 5s 5s/step - loss: 0.0240 - acc: 1.0000\n",
      "697\n",
      "Epoch 1/2\n",
      "1/1 [==============================] - 5s 5s/step - loss: 0.0239 - acc: 1.0000\n",
      "Epoch 2/2\n",
      "1/1 [==============================] - 5s 5s/step - loss: 0.0237 - acc: 1.0000\n",
      "255\n",
      "Epoch 1/2\n",
      "1/1 [==============================] - 5s 5s/step - loss: 0.0235 - acc: 1.0000\n",
      "Epoch 2/2\n",
      "1/1 [==============================] - 5s 5s/step - loss: 0.0233 - acc: 1.0000\n",
      "214\n",
      "Epoch 1/2\n",
      "1/1 [==============================] - 5s 5s/step - loss: 0.0230 - acc: 1.0000\n",
      "Epoch 2/2\n",
      "1/1 [==============================] - 5s 5s/step - loss: 0.0228 - acc: 1.0000\n",
      "894\n",
      "Epoch 1/2\n",
      "1/1 [==============================] - 5s 5s/step - loss: 0.0227 - acc: 1.0000\n",
      "Epoch 2/2\n",
      "1/1 [==============================] - 5s 5s/step - loss: 0.0225 - acc: 1.0000\n",
      "922\n",
      "Epoch 1/2\n",
      "1/1 [==============================] - 5s 5s/step - loss: 0.0224 - acc: 1.0000\n",
      "Epoch 2/2\n",
      "1/1 [==============================] - 5s 5s/step - loss: 0.0222 - acc: 1.0000\n",
      "764\n",
      "Epoch 1/2\n",
      "1/1 [==============================] - 5s 5s/step - loss: 0.0220 - acc: 1.0000\n",
      "Epoch 2/2\n",
      "1/1 [==============================] - 5s 5s/step - loss: 0.0218 - acc: 1.0000\n",
      "623\n",
      "Epoch 1/2\n",
      "1/1 [==============================] - 5s 5s/step - loss: 0.0225 - acc: 0.9998\n",
      "Epoch 2/2\n",
      "1/1 [==============================] - 5s 5s/step - loss: 0.0223 - acc: 0.9998\n",
      "244\n",
      "Epoch 1/2\n",
      "1/1 [==============================] - 5s 5s/step - loss: 0.0213 - acc: 1.0000\n",
      "Epoch 2/2\n",
      "1/1 [==============================] - 5s 5s/step - loss: 0.0211 - acc: 1.0000\n",
      "779\n",
      "Epoch 1/2\n",
      "1/1 [==============================] - 5s 5s/step - loss: 0.0209 - acc: 1.0000\n",
      "Epoch 2/2\n",
      "1/1 [==============================] - 5s 5s/step - loss: 0.0208 - acc: 1.0000\n",
      "740\n",
      "Epoch 1/2\n",
      "1/1 [==============================] - 5s 5s/step - loss: 0.0206 - acc: 1.0000\n",
      "Epoch 2/2\n",
      "1/1 [==============================] - 5s 5s/step - loss: 0.0205 - acc: 1.0000\n",
      "678\n",
      "Epoch 1/2\n",
      "1/1 [==============================] - 5s 5s/step - loss: 0.0263 - acc: 0.9989\n",
      "Epoch 2/2\n",
      "1/1 [==============================] - 5s 5s/step - loss: 0.0262 - acc: 0.9989\n",
      "157\n",
      "Epoch 1/2\n",
      "1/1 [==============================] - 5s 5s/step - loss: 0.0200 - acc: 1.0000\n",
      "Epoch 2/2\n",
      "1/1 [==============================] - 5s 5s/step - loss: 0.0198 - acc: 1.0000\n",
      "725\n",
      "Epoch 1/2\n",
      "1/1 [==============================] - 5s 5s/step - loss: 0.0197 - acc: 1.0000\n",
      "Epoch 2/2\n",
      "1/1 [==============================] - 5s 5s/step - loss: 0.0195 - acc: 1.0000\n",
      "869\n",
      "Epoch 1/2\n",
      "1/1 [==============================] - 5s 5s/step - loss: 0.0196 - acc: 1.0000\n",
      "Epoch 2/2\n",
      "1/1 [==============================] - 5s 5s/step - loss: 0.0194 - acc: 1.0000\n",
      "348\n",
      "Epoch 1/2\n",
      "1/1 [==============================] - 5s 5s/step - loss: 0.0212 - acc: 0.9996\n",
      "Epoch 2/2\n",
      "1/1 [==============================] - 5s 5s/step - loss: 0.0210 - acc: 0.9996\n",
      "714\n",
      "Epoch 1/2\n",
      "1/1 [==============================] - 5s 5s/step - loss: 0.0187 - acc: 1.0000\n",
      "Epoch 2/2\n",
      "1/1 [==============================] - 5s 5s/step - loss: 0.0186 - acc: 1.0000\n",
      "187\n",
      "Epoch 1/2\n",
      "1/1 [==============================] - 5s 5s/step - loss: 0.0186 - acc: 1.0000\n",
      "Epoch 2/2\n",
      "1/1 [==============================] - 5s 5s/step - loss: 0.0185 - acc: 1.0000\n",
      "595\n",
      "Epoch 1/2\n",
      "1/1 [==============================] - 5s 5s/step - loss: 0.0182 - acc: 1.0000\n",
      "Epoch 2/2\n",
      "1/1 [==============================] - 5s 5s/step - loss: 0.0180 - acc: 1.0000\n",
      "458\n",
      "Epoch 1/2\n",
      "1/1 [==============================] - 5s 5s/step - loss: 0.0214 - acc: 0.9994\n",
      "Epoch 2/2\n",
      "1/1 [==============================] - 5s 5s/step - loss: 0.0213 - acc: 0.9994\n",
      "207\n",
      "Epoch 1/2\n",
      "1/1 [==============================] - 5s 5s/step - loss: 0.0176 - acc: 1.0000\n",
      "Epoch 2/2\n",
      "1/1 [==============================] - 5s 5s/step - loss: 0.0175 - acc: 1.0000\n",
      "470\n",
      "Epoch 1/2\n",
      "1/1 [==============================] - 5s 5s/step - loss: 0.0197 - acc: 0.9994\n",
      "Epoch 2/2\n",
      "1/1 [==============================] - 5s 5s/step - loss: 0.0196 - acc: 0.9994\n",
      "849\n",
      "Epoch 1/2\n",
      "1/1 [==============================] - 5s 5s/step - loss: 0.0171 - acc: 1.0000\n",
      "Epoch 2/2\n",
      "1/1 [==============================] - 5s 5s/step - loss: 0.0170 - acc: 1.0000\n",
      "170\n",
      "Epoch 1/2\n",
      "1/1 [==============================] - 5s 5s/step - loss: 0.0198 - acc: 0.9994\n",
      "Epoch 2/2\n",
      "1/1 [==============================] - 5s 5s/step - loss: 0.0197 - acc: 0.9994\n",
      "577\n",
      "Epoch 1/2\n",
      "1/1 [==============================] - 5s 5s/step - loss: 0.0169 - acc: 0.9999\n",
      "Epoch 2/2\n",
      "1/1 [==============================] - 5s 5s/step - loss: 0.0168 - acc: 0.9999\n",
      "102\n",
      "Epoch 1/2\n",
      "1/1 [==============================] - 5s 5s/step - loss: 0.0163 - acc: 1.0000\n",
      "Epoch 2/2\n",
      "1/1 [==============================] - 5s 5s/step - loss: 0.0162 - acc: 1.0000\n",
      "576\n",
      "Epoch 1/2\n",
      "1/1 [==============================] - 5s 5s/step - loss: 0.0164 - acc: 0.9999\n",
      "Epoch 2/2\n",
      "1/1 [==============================] - 5s 5s/step - loss: 0.0162 - acc: 0.9999\n",
      "736\n",
      "Epoch 1/2\n",
      "1/1 [==============================] - 5s 5s/step - loss: 0.0158 - acc: 1.0000\n",
      "Epoch 2/2\n",
      "1/1 [==============================] - 5s 5s/step - loss: 0.0157 - acc: 1.0000\n",
      "161\n",
      "Epoch 1/2\n",
      "1/1 [==============================] - 5s 5s/step - loss: 0.0159 - acc: 0.9999\n",
      "Epoch 2/2\n",
      "1/1 [==============================] - 5s 5s/step - loss: 0.0157 - acc: 0.9999\n",
      "594\n",
      "Epoch 1/2\n",
      "1/1 [==============================] - 5s 5s/step - loss: 0.0154 - acc: 1.0000\n",
      "Epoch 2/2\n",
      "1/1 [==============================] - 5s 5s/step - loss: 0.0153 - acc: 1.0000\n",
      "837\n",
      "Epoch 1/2\n",
      "1/1 [==============================] - 5s 5s/step - loss: 0.0152 - acc: 1.0000\n",
      "Epoch 2/2\n",
      "1/1 [==============================] - 5s 5s/step - loss: 0.0150 - acc: 1.0000\n",
      "585\n",
      "Epoch 1/2\n",
      "1/1 [==============================] - 5s 5s/step - loss: 0.0149 - acc: 1.0000\n",
      "Epoch 2/2\n",
      "1/1 [==============================] - 5s 5s/step - loss: 0.0148 - acc: 1.0000\n",
      "592\n",
      "Epoch 1/2\n",
      "1/1 [==============================] - 5s 5s/step - loss: 0.0147 - acc: 1.0000\n",
      "Epoch 2/2\n",
      "1/1 [==============================] - 5s 5s/step - loss: 0.0146 - acc: 1.0000\n",
      "44\n",
      "Epoch 1/2\n",
      "1/1 [==============================] - 5s 5s/step - loss: 0.0145 - acc: 1.0000\n",
      "Epoch 2/2\n",
      "1/1 [==============================] - 5s 5s/step - loss: 0.0144 - acc: 1.0000\n",
      "240\n",
      "Epoch 1/2\n",
      "1/1 [==============================] - 5s 5s/step - loss: 0.0144 - acc: 1.0000\n",
      "Epoch 2/2\n",
      "1/1 [==============================] - 5s 5s/step - loss: 0.0143 - acc: 1.0000\n",
      "992\n",
      "Epoch 1/2\n",
      "1/1 [==============================] - 5s 5s/step - loss: 0.0143 - acc: 0.9999\n",
      "Epoch 2/2\n",
      "1/1 [==============================] - 5s 5s/step - loss: 0.0142 - acc: 0.9999\n",
      "85\n",
      "Epoch 1/2\n",
      "1/1 [==============================] - 5s 5s/step - loss: 0.0139 - acc: 1.0000\n",
      "Epoch 2/2\n",
      "1/1 [==============================] - 5s 5s/step - loss: 0.0138 - acc: 1.0000\n",
      "230\n",
      "Epoch 1/2\n",
      "1/1 [==============================] - 5s 5s/step - loss: 0.0139 - acc: 0.9999\n",
      "Epoch 2/2\n",
      "1/1 [==============================] - 5s 5s/step - loss: 0.0138 - acc: 0.9999\n",
      "550\n",
      "Epoch 1/2\n",
      "1/1 [==============================] - 5s 5s/step - loss: 0.0135 - acc: 1.0000\n",
      "Epoch 2/2\n",
      "1/1 [==============================] - 5s 5s/step - loss: 0.0134 - acc: 1.0000\n",
      "72\n",
      "Epoch 1/2\n",
      "1/1 [==============================] - 5s 5s/step - loss: 0.0133 - acc: 1.0000\n",
      "Epoch 2/2\n",
      "1/1 [==============================] - 5s 5s/step - loss: 0.0132 - acc: 1.0000\n",
      "182\n",
      "Epoch 1/2\n",
      "1/1 [==============================] - 5s 5s/step - loss: 0.0135 - acc: 0.9999\n",
      "Epoch 2/2\n",
      "1/1 [==============================] - 5s 5s/step - loss: 0.0134 - acc: 0.9999\n",
      "787\n",
      "Epoch 1/2\n",
      "1/1 [==============================] - 5s 5s/step - loss: 0.0130 - acc: 1.0000\n",
      "Epoch 2/2\n",
      "1/1 [==============================] - 5s 5s/step - loss: 0.0129 - acc: 1.0000\n",
      "236\n",
      "Epoch 1/2\n",
      "1/1 [==============================] - 5s 5s/step - loss: 0.0131 - acc: 0.9999\n",
      "Epoch 2/2\n",
      "1/1 [==============================] - 5s 5s/step - loss: 0.0130 - acc: 0.9999\n",
      "139\n",
      "Epoch 1/2\n",
      "1/1 [==============================] - 5s 5s/step - loss: 0.0151 - acc: 0.9996\n",
      "Epoch 2/2\n",
      "1/1 [==============================] - 5s 5s/step - loss: 0.0150 - acc: 0.9996\n",
      "307\n",
      "Epoch 1/2\n",
      "1/1 [==============================] - 5s 5s/step - loss: 0.0124 - acc: 1.0000\n",
      "Epoch 2/2\n",
      "1/1 [==============================] - 5s 5s/step - loss: 0.0124 - acc: 1.0000\n",
      "380\n",
      "Epoch 1/2\n"
     ]
    },
    {
     "name": "stdout",
     "output_type": "stream",
     "text": [
      "1/1 [==============================] - 5s 5s/step - loss: 0.0123 - acc: 1.0000\n",
      "Epoch 2/2\n",
      "1/1 [==============================] - 5s 5s/step - loss: 0.0122 - acc: 1.0000\n",
      "399\n",
      "Epoch 1/2\n",
      "1/1 [==============================] - 5s 5s/step - loss: 0.0123 - acc: 1.0000\n",
      "Epoch 2/2\n",
      "1/1 [==============================] - 5s 5s/step - loss: 0.0122 - acc: 1.0000\n",
      "805\n",
      "Epoch 1/2\n",
      "1/1 [==============================] - 5s 5s/step - loss: 0.0122 - acc: 1.0000\n",
      "Epoch 2/2\n",
      "1/1 [==============================] - 5s 5s/step - loss: 0.0121 - acc: 1.0000\n",
      "336\n",
      "Epoch 1/2\n",
      "1/1 [==============================] - 5s 5s/step - loss: 0.0119 - acc: 1.0000\n",
      "Epoch 2/2\n",
      "1/1 [==============================] - 5s 5s/step - loss: 0.0118 - acc: 1.0000\n",
      "406\n",
      "Epoch 1/2\n",
      "1/1 [==============================] - 5s 5s/step - loss: 0.0126 - acc: 0.9998\n",
      "Epoch 2/2\n",
      "1/1 [==============================] - 5s 5s/step - loss: 0.0125 - acc: 0.9998\n",
      "218\n",
      "Epoch 1/2\n",
      "1/1 [==============================] - 5s 5s/step - loss: 0.0115 - acc: 1.0000\n",
      "Epoch 2/2\n",
      "1/1 [==============================] - 5s 5s/step - loss: 0.0115 - acc: 1.0000\n",
      "521\n",
      "Epoch 1/2\n",
      "1/1 [==============================] - 5s 5s/step - loss: 0.0114 - acc: 1.0000\n",
      "Epoch 2/2\n",
      "1/1 [==============================] - 5s 5s/step - loss: 0.0114 - acc: 1.0000\n",
      "856\n",
      "Epoch 1/2\n",
      "1/1 [==============================] - 5s 5s/step - loss: 0.0116 - acc: 0.9999\n",
      "Epoch 2/2\n",
      "1/1 [==============================] - 5s 5s/step - loss: 0.0115 - acc: 0.9999\n",
      "777\n",
      "Epoch 1/2\n",
      "1/1 [==============================] - 5s 5s/step - loss: 0.0111 - acc: 1.0000\n",
      "Epoch 2/2\n",
      "1/1 [==============================] - 5s 5s/step - loss: 0.0111 - acc: 1.0000\n",
      "966\n",
      "Epoch 1/2\n",
      "1/1 [==============================] - 5s 5s/step - loss: 0.0110 - acc: 1.0000\n",
      "Epoch 2/2\n",
      "1/1 [==============================] - 5s 5s/step - loss: 0.0109 - acc: 1.0000\n",
      "413\n",
      "Epoch 1/2\n",
      "1/1 [==============================] - 5s 5s/step - loss: 0.0108 - acc: 1.0000\n",
      "Epoch 2/2\n",
      "1/1 [==============================] - 5s 5s/step - loss: 0.0108 - acc: 1.0000\n",
      "91\n",
      "Epoch 1/2\n",
      "1/1 [==============================] - 5s 5s/step - loss: 0.0110 - acc: 0.9999\n",
      "Epoch 2/2\n",
      "1/1 [==============================] - 5s 5s/step - loss: 0.0109 - acc: 0.9999\n",
      "560\n",
      "Epoch 1/2\n",
      "1/1 [==============================] - 5s 5s/step - loss: 0.0107 - acc: 1.0000\n",
      "Epoch 2/2\n",
      "1/1 [==============================] - 5s 5s/step - loss: 0.0107 - acc: 1.0000\n",
      "591\n",
      "Epoch 1/2\n",
      "1/1 [==============================] - 5s 5s/step - loss: 0.0145 - acc: 0.9993\n",
      "Epoch 2/2\n",
      "1/1 [==============================] - 5s 5s/step - loss: 0.0144 - acc: 0.9993\n",
      "264\n",
      "Epoch 1/2\n",
      "1/1 [==============================] - 5s 5s/step - loss: 0.0133 - acc: 0.9995\n",
      "Epoch 2/2\n",
      "1/1 [==============================] - 5s 5s/step - loss: 0.0132 - acc: 0.9995\n",
      "330\n",
      "Epoch 1/2\n",
      "1/1 [==============================] - 5s 5s/step - loss: 0.0102 - acc: 1.0000\n",
      "Epoch 2/2\n",
      "1/1 [==============================] - 5s 5s/step - loss: 0.0101 - acc: 1.0000\n",
      "872\n",
      "Epoch 1/2\n",
      "1/1 [==============================] - 5s 5s/step - loss: 0.0101 - acc: 1.0000\n",
      "Epoch 2/2\n",
      "1/1 [==============================] - 5s 5s/step - loss: 0.0100 - acc: 1.0000\n",
      "899\n",
      "Epoch 1/2\n",
      "1/1 [==============================] - 5s 5s/step - loss: 0.0100 - acc: 1.0000\n",
      "Epoch 2/2\n",
      "1/1 [==============================] - 5s 5s/step - loss: 0.0099 - acc: 1.0000\n",
      "647\n",
      "Epoch 1/2\n",
      "1/1 [==============================] - 5s 5s/step - loss: 0.0101 - acc: 1.0000\n",
      "Epoch 2/2\n",
      "1/1 [==============================] - 5s 5s/step - loss: 0.0100 - acc: 1.0000\n",
      "988\n",
      "Epoch 1/2\n",
      "1/1 [==============================] - 5s 5s/step - loss: 0.0101 - acc: 0.9999\n",
      "Epoch 2/2\n",
      "1/1 [==============================] - 5s 5s/step - loss: 0.0100 - acc: 0.9999\n",
      "249\n",
      "Epoch 1/2\n",
      "1/1 [==============================] - 5s 5s/step - loss: 0.0096 - acc: 1.0000\n",
      "Epoch 2/2\n",
      "1/1 [==============================] - 5s 5s/step - loss: 0.0095 - acc: 1.0000\n",
      "837\n",
      "Epoch 1/2\n",
      "1/1 [==============================] - 5s 5s/step - loss: 0.0095 - acc: 1.0000\n",
      "Epoch 2/2\n",
      "1/1 [==============================] - 5s 5s/step - loss: 0.0094 - acc: 1.0000\n",
      "302\n",
      "Epoch 1/2\n",
      "1/1 [==============================] - 5s 5s/step - loss: 0.0101 - acc: 0.9999\n",
      "Epoch 2/2\n",
      "1/1 [==============================] - 5s 5s/step - loss: 0.0100 - acc: 0.9999\n",
      "76\n",
      "Epoch 1/2\n",
      "1/1 [==============================] - 5s 5s/step - loss: 0.0092 - acc: 1.0000\n",
      "Epoch 2/2\n",
      "1/1 [==============================] - 5s 5s/step - loss: 0.0092 - acc: 1.0000\n",
      "816\n",
      "Epoch 1/2\n",
      "1/1 [==============================] - 5s 5s/step - loss: 0.0093 - acc: 1.0000\n",
      "Epoch 2/2\n",
      "1/1 [==============================] - 5s 5s/step - loss: 0.0093 - acc: 1.0000\n",
      "737\n",
      "Epoch 1/2\n",
      "1/1 [==============================] - 5s 5s/step - loss: 0.0091 - acc: 1.0000\n",
      "Epoch 2/2\n",
      "1/1 [==============================] - 5s 5s/step - loss: 0.0090 - acc: 1.0000\n",
      "126\n",
      "Epoch 1/2\n",
      "1/1 [==============================] - 5s 5s/step - loss: 0.0090 - acc: 1.0000\n",
      "Epoch 2/2\n",
      "1/1 [==============================] - 5s 5s/step - loss: 0.0089 - acc: 1.0000\n",
      "317\n",
      "Epoch 1/2\n",
      "1/1 [==============================] - 5s 5s/step - loss: 0.0088 - acc: 1.0000\n",
      "Epoch 2/2\n",
      "1/1 [==============================] - 5s 5s/step - loss: 0.0087 - acc: 1.0000\n",
      "123\n",
      "Epoch 1/2\n",
      "1/1 [==============================] - 5s 5s/step - loss: 0.0090 - acc: 0.9999\n",
      "Epoch 2/2\n",
      "1/1 [==============================] - 5s 5s/step - loss: 0.0089 - acc: 0.9999\n",
      "958\n",
      "Epoch 1/2\n",
      "1/1 [==============================] - 5s 5s/step - loss: 0.0085 - acc: 1.0000\n",
      "Epoch 2/2\n",
      "1/1 [==============================] - 5s 5s/step - loss: 0.0085 - acc: 1.0000\n",
      "509\n",
      "Epoch 1/2\n",
      "1/1 [==============================] - 5s 5s/step - loss: 0.0084 - acc: 1.0000\n",
      "Epoch 2/2\n",
      "1/1 [==============================] - 5s 5s/step - loss: 0.0083 - acc: 1.0000\n",
      "1014\n",
      "Epoch 1/2\n",
      "1/1 [==============================] - 5s 5s/step - loss: 0.0086 - acc: 0.9999\n",
      "Epoch 2/2\n",
      "1/1 [==============================] - 5s 5s/step - loss: 0.0085 - acc: 0.9999\n",
      "891\n",
      "Epoch 1/2\n",
      "1/1 [==============================] - 5s 5s/step - loss: 0.0083 - acc: 1.0000\n",
      "Epoch 2/2\n",
      "1/1 [==============================] - 5s 5s/step - loss: 0.0083 - acc: 1.0000\n",
      "696\n",
      "Epoch 1/2\n",
      "1/1 [==============================] - 5s 5s/step - loss: 0.0080 - acc: 1.0000\n",
      "Epoch 2/2\n",
      "1/1 [==============================] - 5s 5s/step - loss: 0.0080 - acc: 1.0000\n",
      "570\n",
      "Epoch 1/2\n",
      "1/1 [==============================] - 5s 5s/step - loss: 0.0098 - acc: 0.9997\n",
      "Epoch 2/2\n",
      "1/1 [==============================] - 5s 5s/step - loss: 0.0097 - acc: 0.9997\n",
      "752\n",
      "Epoch 1/2\n",
      "1/1 [==============================] - 5s 5s/step - loss: 0.0078 - acc: 1.0000\n",
      "Epoch 2/2\n",
      "1/1 [==============================] - 5s 5s/step - loss: 0.0077 - acc: 1.0000\n",
      "397\n",
      "Epoch 1/2\n",
      "1/1 [==============================] - 5s 5s/step - loss: 0.0084 - acc: 0.9999\n",
      "Epoch 2/2\n",
      "1/1 [==============================] - 5s 5s/step - loss: 0.0084 - acc: 0.9999\n",
      "476\n"
     ]
    },
    {
     "ename": "KeyboardInterrupt",
     "evalue": "",
     "output_type": "error",
     "traceback": [
      "\u001b[0;31m---------------------------------------------------------------------------\u001b[0m",
      "\u001b[0;31mKeyboardInterrupt\u001b[0m                         Traceback (most recent call last)",
      "\u001b[0;32m<ipython-input-68-4763d493ed07>\u001b[0m in \u001b[0;36m<module>\u001b[0;34m()\u001b[0m\n\u001b[1;32m      4\u001b[0m         \u001b[0mprint\u001b[0m\u001b[0;34m(\u001b[0m\u001b[0mi\u001b[0m\u001b[0;34m)\u001b[0m\u001b[0;34m\u001b[0m\u001b[0m\n\u001b[1;32m      5\u001b[0m         \u001b[0;32mtry\u001b[0m\u001b[0;34m:\u001b[0m\u001b[0;34m\u001b[0m\u001b[0m\n\u001b[0;32m----> 6\u001b[0;31m             \u001b[0mX\u001b[0m\u001b[0;34m,\u001b[0m \u001b[0my\u001b[0m \u001b[0;34m=\u001b[0m \u001b[0mget_data\u001b[0m\u001b[0;34m(\u001b[0m\u001b[0mi\u001b[0m\u001b[0;34m)\u001b[0m\u001b[0;34m\u001b[0m\u001b[0m\n\u001b[0m\u001b[1;32m      7\u001b[0m             \u001b[0mmodel\u001b[0m\u001b[0;34m.\u001b[0m\u001b[0mfit\u001b[0m\u001b[0;34m(\u001b[0m\u001b[0mX\u001b[0m\u001b[0;34m,\u001b[0m \u001b[0my\u001b[0m\u001b[0;34m,\u001b[0m \u001b[0mbatch_size\u001b[0m\u001b[0;34m=\u001b[0m\u001b[0;36m1\u001b[0m\u001b[0;34m,\u001b[0m \u001b[0mepochs\u001b[0m\u001b[0;34m=\u001b[0m\u001b[0mnum_epochs\u001b[0m\u001b[0;34m)\u001b[0m\u001b[0;34m\u001b[0m\u001b[0m\n\u001b[1;32m      8\u001b[0m             \u001b[0mmodel\u001b[0m\u001b[0;34m.\u001b[0m\u001b[0msave\u001b[0m\u001b[0;34m(\u001b[0m\u001b[0;34m'unet_lstm_new.hdf5'\u001b[0m\u001b[0;34m)\u001b[0m\u001b[0;34m\u001b[0m\u001b[0m\n",
      "\u001b[0;32m<ipython-input-60-c4864dfcb83e>\u001b[0m in \u001b[0;36mget_data\u001b[0;34m(i, only_nodules)\u001b[0m\n\u001b[1;32m      1\u001b[0m \u001b[0;32mdef\u001b[0m \u001b[0mget_data\u001b[0m\u001b[0;34m(\u001b[0m\u001b[0mi\u001b[0m\u001b[0;34m,\u001b[0m \u001b[0monly_nodules\u001b[0m\u001b[0;34m=\u001b[0m\u001b[0;32mTrue\u001b[0m\u001b[0;34m)\u001b[0m\u001b[0;34m:\u001b[0m\u001b[0;34m\u001b[0m\u001b[0m\n\u001b[1;32m      2\u001b[0m     \u001b[0mscan\u001b[0m \u001b[0;34m=\u001b[0m \u001b[0mscans\u001b[0m\u001b[0;34m[\u001b[0m\u001b[0mi\u001b[0m\u001b[0;34m]\u001b[0m\u001b[0;34m\u001b[0m\u001b[0m\n\u001b[0;32m----> 3\u001b[0;31m     \u001b[0mimages\u001b[0m \u001b[0;34m=\u001b[0m \u001b[0mscan\u001b[0m\u001b[0;34m.\u001b[0m\u001b[0mload_all_dicom_images\u001b[0m\u001b[0;34m(\u001b[0m\u001b[0mverbose\u001b[0m\u001b[0;34m=\u001b[0m\u001b[0;32mFalse\u001b[0m\u001b[0;34m)\u001b[0m\u001b[0;34m\u001b[0m\u001b[0m\n\u001b[0m\u001b[1;32m      4\u001b[0m     \u001b[0mn\u001b[0m \u001b[0;34m=\u001b[0m \u001b[0mlen\u001b[0m\u001b[0;34m(\u001b[0m\u001b[0mimages\u001b[0m\u001b[0;34m)\u001b[0m\u001b[0;34m\u001b[0m\u001b[0m\n\u001b[1;32m      5\u001b[0m     \u001b[0mX\u001b[0m \u001b[0;34m=\u001b[0m \u001b[0mnp\u001b[0m\u001b[0;34m.\u001b[0m\u001b[0marray\u001b[0m\u001b[0;34m(\u001b[0m\u001b[0;34m[\u001b[0m\u001b[0mresize\u001b[0m\u001b[0;34m(\u001b[0m\u001b[0mim\u001b[0m\u001b[0;34m.\u001b[0m\u001b[0mpixel_array\u001b[0m\u001b[0;34m,\u001b[0m \u001b[0mimage_size\u001b[0m\u001b[0;34m,\u001b[0m \u001b[0mmode\u001b[0m\u001b[0;34m=\u001b[0m\u001b[0;34m'constant'\u001b[0m\u001b[0;34m)\u001b[0m \u001b[0;32mfor\u001b[0m \u001b[0mim\u001b[0m \u001b[0;32min\u001b[0m \u001b[0mimages\u001b[0m\u001b[0;34m]\u001b[0m\u001b[0;34m)\u001b[0m\u001b[0;34m\u001b[0m\u001b[0m\n",
      "\u001b[0;32m/usr/share/anaconda3/lib/python3.6/site-packages/pylidc/Scan.py\u001b[0m in \u001b[0;36mload_all_dicom_images\u001b[0;34m(self, verbose)\u001b[0m\n\u001b[1;32m    264\u001b[0m         \u001b[0mimages\u001b[0m \u001b[0;34m=\u001b[0m \u001b[0;34m[\u001b[0m\u001b[0;34m]\u001b[0m\u001b[0;34m\u001b[0m\u001b[0m\n\u001b[1;32m    265\u001b[0m         \u001b[0;32mfor\u001b[0m \u001b[0mfname\u001b[0m \u001b[0;32min\u001b[0m \u001b[0mfnames\u001b[0m\u001b[0;34m:\u001b[0m\u001b[0;34m\u001b[0m\u001b[0m\n\u001b[0;32m--> 266\u001b[0;31m             \u001b[0mimage\u001b[0m \u001b[0;34m=\u001b[0m \u001b[0mdicom\u001b[0m\u001b[0;34m.\u001b[0m\u001b[0mdcmread\u001b[0m\u001b[0;34m(\u001b[0m\u001b[0mos\u001b[0m\u001b[0;34m.\u001b[0m\u001b[0mpath\u001b[0m\u001b[0;34m.\u001b[0m\u001b[0mjoin\u001b[0m\u001b[0;34m(\u001b[0m\u001b[0mpath\u001b[0m\u001b[0;34m,\u001b[0m\u001b[0mfname\u001b[0m\u001b[0;34m)\u001b[0m\u001b[0;34m)\u001b[0m\u001b[0;34m\u001b[0m\u001b[0m\n\u001b[0m\u001b[1;32m    267\u001b[0m \u001b[0;34m\u001b[0m\u001b[0m\n\u001b[1;32m    268\u001b[0m             \u001b[0mseid\u001b[0m \u001b[0;34m=\u001b[0m \u001b[0mstr\u001b[0m\u001b[0;34m(\u001b[0m\u001b[0mimage\u001b[0m\u001b[0;34m.\u001b[0m\u001b[0mSeriesInstanceUID\u001b[0m\u001b[0;34m)\u001b[0m\u001b[0;34m.\u001b[0m\u001b[0mstrip\u001b[0m\u001b[0;34m(\u001b[0m\u001b[0;34m)\u001b[0m\u001b[0;34m\u001b[0m\u001b[0m\n",
      "\u001b[0;32m/usr/share/anaconda3/lib/python3.6/site-packages/pydicom/filereader.py\u001b[0m in \u001b[0;36mdcmread\u001b[0;34m(fp, defer_size, stop_before_pixels, force, specific_tags)\u001b[0m\n\u001b[1;32m    876\u001b[0m     \u001b[0;32mtry\u001b[0m\u001b[0;34m:\u001b[0m\u001b[0;34m\u001b[0m\u001b[0m\n\u001b[1;32m    877\u001b[0m         dataset = read_partial(fp, stop_when, defer_size=defer_size,\n\u001b[0;32m--> 878\u001b[0;31m                                force=force, specific_tags=specific_tags)\n\u001b[0m\u001b[1;32m    879\u001b[0m     \u001b[0;32mfinally\u001b[0m\u001b[0;34m:\u001b[0m\u001b[0;34m\u001b[0m\u001b[0m\n\u001b[1;32m    880\u001b[0m         \u001b[0;32mif\u001b[0m \u001b[0;32mnot\u001b[0m \u001b[0mcaller_owns_file\u001b[0m\u001b[0;34m:\u001b[0m\u001b[0;34m\u001b[0m\u001b[0m\n",
      "\u001b[0;32m/usr/share/anaconda3/lib/python3.6/site-packages/pydicom/filereader.py\u001b[0m in \u001b[0;36mread_partial\u001b[0;34m(fileobj, stop_when, defer_size, force, specific_tags)\u001b[0m\n\u001b[1;32m    687\u001b[0m \u001b[0;34m\u001b[0m\u001b[0m\n\u001b[1;32m    688\u001b[0m     \u001b[0;31m# Read preamble (if present)\u001b[0m\u001b[0;34m\u001b[0m\u001b[0;34m\u001b[0m\u001b[0m\n\u001b[0;32m--> 689\u001b[0;31m     \u001b[0mpreamble\u001b[0m \u001b[0;34m=\u001b[0m \u001b[0mread_preamble\u001b[0m\u001b[0;34m(\u001b[0m\u001b[0mfileobj\u001b[0m\u001b[0;34m,\u001b[0m \u001b[0mforce\u001b[0m\u001b[0;34m)\u001b[0m\u001b[0;34m\u001b[0m\u001b[0m\n\u001b[0m\u001b[1;32m    690\u001b[0m     \u001b[0;31m# Read any File Meta Information group (0002,eeee) elements (if present)\u001b[0m\u001b[0;34m\u001b[0m\u001b[0;34m\u001b[0m\u001b[0m\n\u001b[1;32m    691\u001b[0m     \u001b[0mfile_meta_dataset\u001b[0m \u001b[0;34m=\u001b[0m \u001b[0m_read_file_meta_info\u001b[0m\u001b[0;34m(\u001b[0m\u001b[0mfileobj\u001b[0m\u001b[0;34m)\u001b[0m\u001b[0;34m\u001b[0m\u001b[0m\n",
      "\u001b[0;32m/usr/share/anaconda3/lib/python3.6/site-packages/pydicom/filereader.py\u001b[0m in \u001b[0;36mread_preamble\u001b[0;34m(fp, force)\u001b[0m\n\u001b[1;32m    625\u001b[0m     \"\"\"\n\u001b[1;32m    626\u001b[0m     \u001b[0mlogger\u001b[0m\u001b[0;34m.\u001b[0m\u001b[0mdebug\u001b[0m\u001b[0;34m(\u001b[0m\u001b[0;34m\"Reading File Meta Information preamble...\"\u001b[0m\u001b[0;34m)\u001b[0m\u001b[0;34m\u001b[0m\u001b[0m\n\u001b[0;32m--> 627\u001b[0;31m     \u001b[0mpreamble\u001b[0m \u001b[0;34m=\u001b[0m \u001b[0mfp\u001b[0m\u001b[0;34m.\u001b[0m\u001b[0mread\u001b[0m\u001b[0;34m(\u001b[0m\u001b[0;36m128\u001b[0m\u001b[0;34m)\u001b[0m\u001b[0;34m\u001b[0m\u001b[0m\n\u001b[0m\u001b[1;32m    628\u001b[0m     \u001b[0;32mif\u001b[0m \u001b[0mconfig\u001b[0m\u001b[0;34m.\u001b[0m\u001b[0mdebugging\u001b[0m\u001b[0;34m:\u001b[0m\u001b[0;34m\u001b[0m\u001b[0m\n\u001b[1;32m    629\u001b[0m         \u001b[0msample\u001b[0m \u001b[0;34m=\u001b[0m \u001b[0mbytes2hex\u001b[0m\u001b[0;34m(\u001b[0m\u001b[0mpreamble\u001b[0m\u001b[0;34m[\u001b[0m\u001b[0;34m:\u001b[0m\u001b[0;36m8\u001b[0m\u001b[0;34m]\u001b[0m\u001b[0;34m)\u001b[0m \u001b[0;34m+\u001b[0m \u001b[0;34m\"...\"\u001b[0m \u001b[0;34m+\u001b[0m \u001b[0mbytes2hex\u001b[0m\u001b[0;34m(\u001b[0m\u001b[0mpreamble\u001b[0m\u001b[0;34m[\u001b[0m\u001b[0;34m-\u001b[0m\u001b[0;36m8\u001b[0m\u001b[0;34m:\u001b[0m\u001b[0;34m]\u001b[0m\u001b[0;34m)\u001b[0m\u001b[0;34m\u001b[0m\u001b[0m\n",
      "\u001b[0;31mKeyboardInterrupt\u001b[0m: "
     ]
    }
   ],
   "source": [
    "for _ in range(num_samples):\n",
    "    while True:\n",
    "        i = np.random.choice(train)\n",
    "        print(i)\n",
    "        try:\n",
    "            X, y = get_data(i)\n",
    "            model.fit(X, y, batch_size=1, epochs=num_epochs)\n",
    "            model.save('unet_lstm_new.hdf5')\n",
    "            break\n",
    "        except OSError:\n",
    "            print('Problem getting data')"
   ]
  },
  {
   "cell_type": "code",
   "execution_count": null,
   "metadata": {},
   "outputs": [],
   "source": [
    "#model.save('unet_lstm.hdf5')"
   ]
  },
  {
   "cell_type": "code",
   "execution_count": 70,
   "metadata": {},
   "outputs": [
    {
     "name": "stderr",
     "output_type": "stream",
     "text": [
      "/usr/share/anaconda3/lib/python3.6/site-packages/sklearn/metrics/ranking.py:571: UndefinedMetricWarning: No positive samples in y_true, true positive value should be meaningless\n",
      "  UndefinedMetricWarning)\n"
     ]
    }
   ],
   "source": [
    "# evaluate lstm vs unet\n",
    "ind = np.random.choice(test)\n",
    "X, y = get_data(ind)\n",
    "preds_unet = X\n",
    "fpr_unet, tpr_unet, _ = roc_curve(np.rint(y).flatten(), preds_unet.flatten())\n",
    "\n",
    "preds_lstm = model.predict(preds_unet, batch_size=1)\n",
    "fpr_lstm, tpr_lstm, _ = roc_curve(np.rint(y).flatten(), preds_lstm.flatten())"
   ]
  },
  {
   "cell_type": "code",
   "execution_count": 21,
   "metadata": {},
   "outputs": [],
   "source": [
    "# X_unet = X.reshape((-1, *image_size, 1))\n",
    "# y_unet = y.reshape((-1, *image_size, 1))"
   ]
  },
  {
   "cell_type": "code",
   "execution_count": 71,
   "metadata": {},
   "outputs": [
    {
     "name": "stdout",
     "output_type": "stream",
     "text": [
      "nan\n",
      "nan\n"
     ]
    }
   ],
   "source": [
    "print(auc(fpr_lstm, tpr_lstm))\n",
    "print(auc(fpr_unet, tpr_unet))"
   ]
  },
  {
   "cell_type": "code",
   "execution_count": 75,
   "metadata": {},
   "outputs": [
    {
     "data": {
      "text/plain": [
       "array([nan, nan, nan, ..., nan, nan, nan])"
      ]
     },
     "execution_count": 75,
     "metadata": {},
     "output_type": "execute_result"
    }
   ],
   "source": [
    "tpr_unet"
   ]
  },
  {
   "cell_type": "code",
   "execution_count": 76,
   "metadata": {},
   "outputs": [
    {
     "data": {
      "text/plain": [
       "array([0., 0., 0., ..., 0., 0., 0.])"
      ]
     },
     "execution_count": 76,
     "metadata": {},
     "output_type": "execute_result"
    }
   ],
   "source": [
    "np.rint(y).flatten()"
   ]
  },
  {
   "cell_type": "code",
   "execution_count": 77,
   "metadata": {},
   "outputs": [
    {
     "data": {
      "text/plain": [
       "array([0.40970114, 0.37121758, 0.36049712, ..., 0.00108374, 0.00108374,\n",
       "       0.00111505], dtype=float32)"
      ]
     },
     "execution_count": 77,
     "metadata": {},
     "output_type": "execute_result"
    }
   ],
   "source": [
    "preds_lstm.flatten()"
   ]
  },
  {
   "cell_type": "code",
   "execution_count": null,
   "metadata": {},
   "outputs": [],
   "source": []
  },
  {
   "cell_type": "code",
   "execution_count": null,
   "metadata": {},
   "outputs": [],
   "source": []
  },
  {
   "cell_type": "code",
   "execution_count": 23,
   "metadata": {},
   "outputs": [
    {
     "name": "stdout",
     "output_type": "stream",
     "text": [
      "0.9732168007531221\n",
      "0.7169184511734369\n"
     ]
    }
   ],
   "source": [
    "print(auc(fpr_lstm, tpr_lstm))\n",
    "print(auc(fpr_unet, tpr_unet))"
   ]
  },
  {
   "cell_type": "code",
   "execution_count": 17,
   "metadata": {},
   "outputs": [
    {
     "data": {
      "text/plain": [
       "[<matplotlib.lines.Line2D at 0x7fb2d5c03080>]"
      ]
     },
     "execution_count": 17,
     "metadata": {},
     "output_type": "execute_result"
    },
    {
     "data": {
      "image/png": "[encoded data removed]",
      "text/plain": [
       "<matplotlib.figure.Figure at 0x7fb2d59059e8>"
      ]
     },
     "metadata": {},
     "output_type": "display_data"
    }
   ],
   "source": [
    "plt.plot(fpr, tpr)"
   ]
  },
  {
   "cell_type": "code",
   "execution_count": 24,
   "metadata": {},
   "outputs": [
    {
     "data": {
      "text/plain": [
       "[<matplotlib.lines.Line2D at 0x7fb2b432cba8>]"
      ]
     },
     "execution_count": 24,
     "metadata": {},
     "output_type": "execute_result"
    },
    {
     "data": {
      "image/png": "[encoded data removed]",
      "text/plain": [
       "<matplotlib.figure.Figure at 0x7fb2d5990898>"
      ]
     },
     "metadata": {},
     "output_type": "display_data"
    }
   ],
   "source": [
    "plt.plot(fpr_unet, tpr_unet)"
   ]
  },
  {
   "cell_type": "code",
   "execution_count": null,
   "metadata": {},
   "outputs": [],
   "source": []
  }
 ],
 "metadata": {
  "kernelspec": {
   "display_name": "Python 3",
   "language": "python",
   "name": "python3"
  },
  "language_info": {
   "codemirror_mode": {
    "name": "ipython",
    "version": 3
   },
   "file_extension": ".py",
   "mimetype": "text/x-python",
   "name": "python",
   "nbconvert_exporter": "python",
   "pygments_lexer": "ipython3",
   "version": "3.6.4"
  }
 },
 "nbformat": 4,
 "nbformat_minor": 2
}
