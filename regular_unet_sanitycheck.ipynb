{
 "cells": [
  {
   "cell_type": "code",
   "execution_count": 1,
   "metadata": {},
   "outputs": [
    {
     "name": "stderr",
     "output_type": "stream",
     "text": [
      "Using TensorFlow backend.\n"
     ]
    }
   ],
   "source": [
    "import numpy as np\n",
    "from skimage.transform import resize\n",
    "import pylidc as pl\n",
    "from unet import UNet"
   ]
  },
  {
   "cell_type": "code",
   "execution_count": 2,
   "metadata": {},
   "outputs": [],
   "source": [
    "scans = pl.query(pl.Scan)\n",
    "n = scans.count()"
   ]
  },
  {
   "cell_type": "code",
   "execution_count": 3,
   "metadata": {},
   "outputs": [],
   "source": [
    "image_size = (256, 256)"
   ]
  },
  {
   "cell_type": "code",
   "execution_count": 12,
   "metadata": {},
   "outputs": [],
   "source": [
    "def get_data(i, only_nodules=True):\n",
    "    scan = scans[i]\n",
    "    images = scan.load_all_dicom_images(verbose=False)\n",
    "    n = len(images)\n",
    "    X = np.array([resize(im.pixel_array, image_size, mode='constant') for im in images])\n",
    "    X = np.expand_dims(X, axis=-1)\n",
    "    y = np.zeros((512, 512, n))\n",
    "    for ann in scan.annotations:\n",
    "        b = ann.bbox()\n",
    "        y[b] = np.logical_or(y[b], ann.boolean_mask())\n",
    "    y = np.rollaxis(y, 2, 0)\n",
    "    y = resize(y, (n, *image_size), mode='constant')\n",
    "    if only_nodules:\n",
    "        indices = [l.sum() > 0 for l in y]\n",
    "        X = X[indices]\n",
    "        y = y[indices]\n",
    "    y = np.expand_dims(y, axis=-1)\n",
    "    return X, y"
   ]
  },
  {
   "cell_type": "code",
   "execution_count": 5,
   "metadata": {},
   "outputs": [],
   "source": [
    "model = UNet((*image_size, 1), batchnorm=True, dropout=False)\n",
    "model.compile('adam', loss='binary_crossentropy', metrics=['accuracy'])"
   ]
  },
  {
   "cell_type": "code",
   "execution_count": 10,
   "metadata": {
    "scrolled": true
   },
   "outputs": [
    {
     "name": "stdout",
     "output_type": "stream",
     "text": [
      "399\n",
      "Epoch 1/2\n",
      "8/8 [==============================] - 3s 350ms/step - loss: 0.0437 - acc: 0.9997\n",
      "Epoch 2/2\n",
      "8/8 [==============================] - 3s 313ms/step - loss: 0.0400 - acc: 0.9998\n",
      "642\n",
      "Epoch 1/2\n",
      "4/4 [==============================] - 1s 315ms/step - loss: 0.0382 - acc: 0.9996\n",
      "Epoch 2/2\n",
      "4/4 [==============================] - 1s 308ms/step - loss: 0.0367 - acc: 0.9996\n",
      "717\n",
      "Epoch 1/2\n",
      "58\n",
      "Epoch 1/2\n",
      "15/15 [==============================] - 5s 332ms/step - loss: 0.0340 - acc: 0.9995\n",
      "Epoch 2/2\n",
      "15/15 [==============================] - 5s 312ms/step - loss: 0.0296 - acc: 0.9995\n",
      "522\n",
      "Epoch 1/2\n",
      "5/5 [==============================] - 2s 308ms/step - loss: 0.0269 - acc: 0.9997\n",
      "Epoch 2/2\n",
      "5/5 [==============================] - 2s 310ms/step - loss: 0.0257 - acc: 0.9997\n",
      "985\n",
      "Epoch 1/2\n",
      "8/8 [==============================] - 3s 357ms/step - loss: 0.0248 - acc: 0.9998\n",
      "Epoch 2/2\n",
      "8/8 [==============================] - 2s 307ms/step - loss: 0.0228 - acc: 0.9998\n",
      "136\n",
      "Epoch 1/2\n",
      "22/22 [==============================] - 7s 311ms/step - loss: 0.0232 - acc: 0.9990\n",
      "Epoch 2/2\n",
      "22/22 [==============================] - 7s 314ms/step - loss: 0.0198 - acc: 0.9990\n",
      "126\n",
      "Epoch 1/2\n",
      "3/3 [==============================] - 1s 312ms/step - loss: 0.0171 - acc: 0.9996\n",
      "Epoch 2/2\n",
      "3/3 [==============================] - 1s 317ms/step - loss: 0.0163 - acc: 0.9997\n",
      "188\n",
      "Epoch 1/2\n",
      "26/26 [==============================] - 8s 311ms/step - loss: 0.0179 - acc: 0.9989\n",
      "Epoch 2/2\n",
      "26/26 [==============================] - 8s 314ms/step - loss: 0.0155 - acc: 0.9989\n",
      "824\n",
      "Epoch 1/2\n",
      "8/8 [==============================] - 2s 310ms/step - loss: 0.0117 - acc: 0.9998\n",
      "Epoch 2/2\n",
      "8/8 [==============================] - 2s 310ms/step - loss: 0.0111 - acc: 0.9998\n",
      "785\n",
      "Epoch 1/2\n",
      "36/36 [==============================] - 11s 317ms/step - loss: 0.0168 - acc: 0.9978\n",
      "Epoch 2/2\n",
      "36/36 [==============================] - 12s 327ms/step - loss: 0.0131 - acc: 0.9982\n",
      "0\n",
      "Epoch 1/2\n",
      "20/20 [==============================] - 6s 313ms/step - loss: 0.0205 - acc: 0.9975\n",
      "Epoch 2/2\n",
      "20/20 [==============================] - 6s 313ms/step - loss: 0.0120 - acc: 0.9980\n",
      "1010\n",
      "Epoch 1/2\n",
      "6/6 [==============================] - 2s 309ms/step - loss: 0.0071 - acc: 0.9998\n",
      "Epoch 2/2\n",
      "6/6 [==============================] - 2s 311ms/step - loss: 0.0067 - acc: 0.9998\n",
      "719\n",
      "Epoch 1/2\n",
      "15/15 [==============================] - 5s 312ms/step - loss: 0.0081 - acc: 0.9993\n",
      "Epoch 2/2\n",
      "15/15 [==============================] - 5s 317ms/step - loss: 0.0071 - acc: 0.9994\n",
      "25\n",
      "Epoch 1/2\n",
      "19/19 [==============================] - 6s 312ms/step - loss: 0.0100 - acc: 0.9984\n",
      "Epoch 2/2\n",
      "19/19 [==============================] - 6s 319ms/step - loss: 0.0080 - acc: 0.9985\n",
      "672\n",
      "Epoch 1/2\n",
      "38/38 [==============================] - 13s 344ms/step - loss: 0.0054 - acc: 0.9996\n",
      "Epoch 2/2\n",
      "38/38 [==============================] - 13s 342ms/step - loss: 0.0046 - acc: 0.9996\n",
      "54\n",
      "Epoch 1/2\n",
      "22/22 [==============================] - 8s 354ms/step - loss: 0.0087 - acc: 0.9983\n",
      "Epoch 2/2\n",
      "22/22 [==============================] - 8s 342ms/step - loss: 0.0065 - acc: 0.9988\n",
      "906\n",
      "Epoch 1/2\n",
      "19/19 [==============================] - 7s 368ms/step - loss: 0.0054 - acc: 0.9993\n",
      "Epoch 2/2\n",
      "19/19 [==============================] - 6s 335ms/step - loss: 0.0040 - acc: 0.9997\n",
      "507\n",
      "Epoch 1/2\n",
      "2/2 [==============================] - 1s 344ms/step - loss: 0.0037 - acc: 0.9998\n",
      "Epoch 2/2\n",
      "2/2 [==============================] - 1s 327ms/step - loss: 0.0036 - acc: 0.9998\n",
      "627\n",
      "Epoch 1/2\n",
      "502\n",
      "Epoch 1/2\n",
      "7/7 [==============================] - 3s 405ms/step - loss: 0.0088 - acc: 0.9987\n",
      "Epoch 2/2\n",
      "7/7 [==============================] - 2s 349ms/step - loss: 0.0075 - acc: 0.9987\n",
      "619\n",
      "Epoch 1/2\n",
      "14/14 [==============================] - 5s 361ms/step - loss: 0.0039 - acc: 0.9998\n",
      "Epoch 2/2\n",
      "14/14 [==============================] - 5s 338ms/step - loss: 0.0036 - acc: 0.9998\n",
      "417\n",
      "Epoch 1/2\n",
      "5/5 [==============================] - 2s 332ms/step - loss: 0.0084 - acc: 0.9988\n",
      "Epoch 2/2\n",
      "5/5 [==============================] - 2s 331ms/step - loss: 0.0080 - acc: 0.9988\n",
      "263\n",
      "Epoch 1/2\n",
      "22/22 [==============================] - 8s 348ms/step - loss: 0.0052 - acc: 0.9991\n",
      "Epoch 2/2\n",
      "22/22 [==============================] - 7s 339ms/step - loss: 0.0036 - acc: 0.9994\n",
      "470\n",
      "Epoch 1/2\n",
      "24/24 [==============================] - 9s 356ms/step - loss: 0.0133 - acc: 0.9972\n",
      "Epoch 2/2\n",
      "24/24 [==============================] - 8s 336ms/step - loss: 0.0102 - acc: 0.9974\n"
     ]
    }
   ],
   "source": [
    "for _ in range(25):\n",
    "    while True:\n",
    "        i = np.random.randint(n)\n",
    "        print(i)\n",
    "        try:\n",
    "            X, y = get_data(i)\n",
    "            try:\n",
    "                model.fit(X, y, batch_size=1, epochs=2)\n",
    "            except AttributeError:\n",
    "                model.fit(X, y, batch_size=1, epochs=2, verbose=0)\n",
    "            break\n",
    "        except OSError:\n",
    "            print('Problem getting data')"
   ]
  },
  {
   "cell_type": "code",
   "execution_count": 11,
   "metadata": {},
   "outputs": [],
   "source": [
    "model.save('unet.hdf5')"
   ]
  },
  {
   "cell_type": "code",
   "execution_count": null,
   "metadata": {},
   "outputs": [],
   "source": []
  }
 ],
 "metadata": {
  "kernelspec": {
   "display_name": "Python 3",
   "language": "python",
   "name": "python3"
  },
  "language_info": {
   "codemirror_mode": {
    "name": "ipython",
    "version": 3
   },
   "file_extension": ".py",
   "mimetype": "text/x-python",
   "name": "python",
   "nbconvert_exporter": "python",
   "pygments_lexer": "ipython3",
   "version": "3.6.4"
  }
 },
 "nbformat": 4,
 "nbformat_minor": 2
}
