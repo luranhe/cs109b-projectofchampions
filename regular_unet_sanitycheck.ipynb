{
 "cells": [
  {
   "cell_type": "code",
   "execution_count": 1,
   "metadata": {},
   "outputs": [
    {
     "name": "stderr",
     "output_type": "stream",
     "text": [
      "Using TensorFlow backend.\n"
     ]
    }
   ],
   "source": [
    "import numpy as np\n",
    "from skimage.transform import resize\n",
    "import pylidc as pl\n",
    "from unet import UNet"
   ]
  },
  {
   "cell_type": "code",
   "execution_count": 2,
   "metadata": {},
   "outputs": [],
   "source": [
    "scans = pl.query(pl.Scan)\n",
    "n = scans.count()"
   ]
  },
  {
   "cell_type": "code",
   "execution_count": 3,
   "metadata": {},
   "outputs": [],
   "source": [
    "image_size = (256, 256)"
   ]
  },
  {
   "cell_type": "code",
   "execution_count": 4,
   "metadata": {},
   "outputs": [],
   "source": [
    "def get_data(i):\n",
    "    scan = scans[i]\n",
    "    images = scan.load_all_dicom_images(verbose=False)\n",
    "    n = len(images)\n",
    "    X = np.array([resize(im.pixel_array, image_size, mode='constant') for im in images])\n",
    "    X = np.expand_dims(X, axis=-1)\n",
    "    y = np.zeros((512, 512, n))\n",
    "    for ann in scan.annotations:\n",
    "        b = ann.bbox()\n",
    "        y[b] = np.logical_or(y[b], ann.boolean_mask())\n",
    "    y = np.rollaxis(y, 2, 0)\n",
    "    y = resize(y, (n, *image_size), mode='constant')\n",
    "    y = np.expand_dims(y, axis=-1)\n",
    "    return X, y"
   ]
  },
  {
   "cell_type": "code",
   "execution_count": 5,
   "metadata": {},
   "outputs": [],
   "source": [
    "model = UNet((*image_size, 1), batchnorm=True, dropout=False)\n",
    "model.compile('adam', loss='binary_crossentropy', metrics=['accuracy'])"
   ]
  },
  {
   "cell_type": "code",
   "execution_count": 7,
   "metadata": {
    "scrolled": true
   },
   "outputs": [
    {
     "name": "stdout",
     "output_type": "stream",
     "text": [
      "341\n",
      "Epoch 1/1\n",
      "421/421 [==============================] - 218s 517ms/step - loss: 0.0032 - acc: 0.9997\n",
      "740\n",
      "Epoch 1/1\n",
      "261/261 [==============================] - 82s 315ms/step - loss: 9.3846e-04 - acc: 1.0000\n",
      "725\n",
      "Epoch 1/1\n",
      "259/259 [==============================] - 83s 322ms/step - loss: 6.4704e-04 - acc: 1.0000\n",
      "308\n",
      "Epoch 1/1\n",
      "225/225 [==============================] - 72s 322ms/step - loss: 6.3052e-04 - acc: 1.0000\n",
      "5\n",
      "Epoch 1/1\n",
      "112/112 [==============================] - 36s 318ms/step - loss: 0.0013 - acc: 0.9999\n",
      "600\n",
      "Epoch 1/1\n",
      "267/267 [==============================] - 86s 321ms/step - loss: 4.2413e-04 - acc: 1.0000\n",
      "409\n",
      "Epoch 1/1\n",
      "513/513 [==============================] - 164s 320ms/step - loss: 2.7651e-04 - acc: 1.0000\n",
      "325\n",
      "Epoch 1/1\n",
      "278/278 [==============================] - 90s 323ms/step - loss: 0.0012 - acc: 0.9998\n",
      "120\n",
      "Epoch 1/1\n",
      "133/133 [==============================] - 42s 319ms/step - loss: 6.7186e-04 - acc: 0.9999\n",
      "886\n",
      "Epoch 1/1\n",
      "195/195 [==============================] - 62s 319ms/step - loss: 2.8964e-04 - acc: 1.0000\n",
      "619\n",
      "Epoch 1/1\n",
      "247/247 [==============================] - 79s 319ms/step - loss: 1.8475e-04 - acc: 1.0000\n",
      "412\n",
      "Epoch 1/1\n",
      "290/290 [==============================] - 94s 323ms/step - loss: 3.9526e-04 - acc: 0.9999\n",
      "371\n",
      "Epoch 1/1\n",
      "111/111 [==============================] - 36s 321ms/step - loss: 0.0026 - acc: 0.9997\n",
      "884\n",
      "Epoch 1/1\n",
      "347/347 [==============================] - 112s 323ms/step - loss: 0.0011 - acc: 0.9998\n",
      "608\n",
      "Epoch 1/1\n",
      "429/429 [==============================] - 139s 324ms/step - loss: 2.7586e-04 - acc: 1.0000\n",
      "149\n",
      "Epoch 1/1\n",
      "136/136 [==============================] - 44s 321ms/step - loss: 3.5777e-04 - acc: 1.0000\n",
      "254\n",
      "Epoch 1/1\n",
      "133/133 [==============================] - 42s 319ms/step - loss: 1.2930e-04 - acc: 1.0000\n",
      "512\n",
      "Epoch 1/1\n",
      "318/318 [==============================] - 103s 324ms/step - loss: 9.9017e-04 - acc: 0.9999\n",
      "968\n",
      "Epoch 1/1\n",
      "238/238 [==============================] - 77s 323ms/step - loss: 0.0013 - acc: 0.9998\n",
      "253\n",
      "Epoch 1/1\n",
      "109/109 [==============================] - 35s 318ms/step - loss: 2.4379e-04 - acc: 1.0000\n",
      "899\n",
      "Epoch 1/1\n",
      "127/127 [==============================] - 41s 320ms/step - loss: 3.3984e-05 - acc: 1.0000\n",
      "981\n",
      "Epoch 1/1\n",
      "519/519 [==============================] - 167s 322ms/step - loss: 1.6124e-04 - acc: 1.0000\n",
      "70\n",
      "Epoch 1/1\n",
      "115/115 [==============================] - 37s 318ms/step - loss: 0.0020 - acc: 0.9997\n",
      "36\n",
      "Epoch 1/1\n",
      "257/257 [==============================] - 83s 323ms/step - loss: 5.9286e-05 - acc: 1.0000\n",
      "642\n",
      "Epoch 1/1\n",
      "166/166 [==============================] - 53s 319ms/step - loss: 9.3780e-05 - acc: 1.0000\n"
     ]
    }
   ],
   "source": [
    "for _ in range(25):\n",
    "    i = np.random.randint(n)\n",
    "    print(i)\n",
    "    try:\n",
    "        X, y = get_data(i)\n",
    "        model.fit(X, y, batch_size=1, epochs=1)\n",
    "    except OSError:\n",
    "        print('Problem getting data')"
   ]
  },
  {
   "cell_type": "code",
   "execution_count": 8,
   "metadata": {},
   "outputs": [],
   "source": [
    "model.save('unet.hdf5')"
   ]
  },
  {
   "cell_type": "code",
   "execution_count": null,
   "metadata": {},
   "outputs": [],
   "source": []
  }
 ],
 "metadata": {
  "kernelspec": {
   "display_name": "Python 3",
   "language": "python",
   "name": "python3"
  },
  "language_info": {
   "codemirror_mode": {
    "name": "ipython",
    "version": 3
   },
   "file_extension": ".py",
   "mimetype": "text/x-python",
   "name": "python",
   "nbconvert_exporter": "python",
   "pygments_lexer": "ipython3",
   "version": "3.6.4"
  }
 },
 "nbformat": 4,
 "nbformat_minor": 2
}
